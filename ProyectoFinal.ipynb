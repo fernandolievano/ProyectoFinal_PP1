{
 "cells": [
  {
   "metadata": {},
   "cell_type": "markdown",
   "source": "# Proyecto Final: Análisis de la Encuesta de Desarrolladores de Stack Overflow 2025 👨‍💻",
   "id": "b744efb24a6eea36"
  },
  {
   "metadata": {},
   "cell_type": "markdown",
   "source": [
    "## Alumno\n",
    "- Fernando Javier García Liévano"
   ],
   "id": "1fac99de65583eda"
  },
  {
   "metadata": {},
   "cell_type": "markdown",
   "source": [
    "## Abstract\n",
    "\n",
    "Durante mi proyecto, estaré llevando a cabo un análisis exploratorio enfocado en un conjunto de datos obtenido de la **Encuesta a Desarrolladores de Stack Overflow 2025**. Esta encuesta es ampliamente reconocida en la comunidad tecnológica, ya que recopila información de miles de desarrolladores alrededor del mundo, brindándonos una visión amplia del estado actual de la industria del desarrollo de software. Los datos en el conjunto seleccionado incluyen aspectos como los lenguajes de programación más utilizados, tecnologías en tendencia, roles más comunes dentro de las empresas, niveles salariales y otros datos relevantes para comprender mejor el ecosistema del desarrollo de software.\n",
    "\n",
    "El objetivo principal de esta fase del proyecto es **explorar y entender el dataset a fondo**. Para eso, voy a usar técnicas de limpieza y transformación de datos, análisis estadístico y visualizaciones que me permitan encontrar patrones, tendencias y relaciones interesantes. Quiero responder a preguntas como: **¿qué lenguajes de programación están en auge?**, **¿qué tecnologías están perdiendo relevancia?** o **¿cómo varían los salarios dependiendo de la región, el rol o los años de experiencia?**.\n",
    "\n",
    "Este análisis exploratorio también me servirá como punto de partida para la siguiente fase del proyecto, donde realizaremos la selección de un modelo de Aprendizaje Automático para una futura implementación sobre el conjunto de datos seleccionado.\n",
    "\n",
    "En resumen, durante este proyecto espero practicar y fortalecer mis habilidades en **Ciencia de Datos**, Python y otras herramientas clave en el manejo de datos, además de entender mejor la realidad de la industria de la que formo parte y así fortalecer mi perfil profesional para crecer y desarrollarme dentro del mercado laboral.\n"
   ],
   "id": "509e8c02eb11a710"
  },
  {
   "metadata": {},
   "cell_type": "markdown",
   "source": [
    "## Preguntas e Hipótesis de Interés\n",
    "1. ¿Qué lenguajes de programación están en auge?\n",
    "2. ¿Qué tecnologías están perdiendo relevancia?\n",
    "3. ¿Cómo varían los salarios dependiendo de la región, el rol o los años de experiencia?"
   ],
   "id": "a35bf83bf9d75458"
  },
  {
   "metadata": {},
   "cell_type": "code",
   "outputs": [],
   "execution_count": null,
   "source": "",
   "id": "597ea9493ffd843d"
  }
 ],
 "metadata": {
  "kernelspec": {
   "display_name": "Python 3",
   "language": "python",
   "name": "python3"
  },
  "language_info": {
   "codemirror_mode": {
    "name": "ipython",
    "version": 2
   },
   "file_extension": ".py",
   "mimetype": "text/x-python",
   "name": "python",
   "nbconvert_exporter": "python",
   "pygments_lexer": "ipython2",
   "version": "2.7.6"
  }
 },
 "nbformat": 4,
 "nbformat_minor": 5
}
