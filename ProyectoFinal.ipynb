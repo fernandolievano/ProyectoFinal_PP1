{
 "cells": [
  {
   "metadata": {
    "ExecuteTime": {
     "end_time": "2025-09-28T04:50:31.497731Z",
     "start_time": "2025-09-28T04:50:31.492523Z"
    }
   },
   "cell_type": "code",
   "source": [
    "from IPython.display import HTML\n",
    "\n",
    "HTML(open('assets/doc.html', 'r', encoding='utf-8').read())"
   ],
   "id": "dc0a0e601ec608ec",
   "outputs": [
    {
     "data": {
      "text/plain": [
       "<IPython.core.display.HTML object>"
      ],
      "text/html": [
       "<!DOCTYPE html>\n",
       "<html lang=\"es\">\n",
       "<body>\n",
       "<div style=\"\n",
       "  font-family: 'Segoe UI', 'Roboto', sans-serif;\n",
       "  background: #0a0a0f;\n",
       "  color: #f2f2f2;\n",
       "  padding: 28px;\n",
       "  border-radius: 14px;\n",
       "  border: 2px solid #1e1e2f;\n",
       "  box-shadow: 0 0 12px rgba(0,0,0,.4), 0 0 20px rgba(138,92,255,.25);\n",
       "  line-height: 1.7;\n",
       "\">\n",
       "    <h1 style=\"\n",
       "    font-size: 36px;\n",
       "    background: linear-gradient(90deg, #ff5e80, #8a5cff, #00e0ff);\n",
       "    -webkit-background-clip: text;\n",
       "    -webkit-text-fill-color: transparent;\n",
       "    text-shadow: 0 0 8px rgba(255,94,128,.5), 0 0 12px rgba(0,224,255,.4);\n",
       "    margin-top: 0;\n",
       "    line-height: 1.3;\n",
       "  \">\n",
       "        Proyecto Final: <br>\n",
       "        Análisis de la Encuesta de Desarrolladores de Stack Overflow 2025 👨‍💻\n",
       "    </h1>\n",
       "\n",
       "    <h2 style=\"color:#8a5cff;\">👤 Alumno</h2>\n",
       "    <p><strong>Fernando Javier García Liévano</strong></p>\n",
       "\n",
       "    <h2 style=\"color:#00e0ff;\">📑 Abstract</h2>\n",
       "    <p>\n",
       "        Durante mi proyecto, estaré llevando a cabo un análisis exploratorio enfocado en un conjunto de datos obtenido\n",
       "        de la\n",
       "        <strong>Encuesta a Desarrolladores de Stack Overflow 2025</strong>. Esta encuesta es ampliamente reconocida en\n",
       "        la\n",
       "        comunidad tecnológica, ya que recopila información de miles de desarrolladores alrededor del mundo, brindándonos\n",
       "        una\n",
       "        visión muy completa del estado actual de la industria del desarrollo de software. Los datos en el conjunto\n",
       "        seleccionado\n",
       "        incluyen aspectos como los lenguajes de programación más utilizados, las tecnologías que marcan tendencia, los\n",
       "        roles\n",
       "        más comunes dentro de las empresas, los niveles salariales y otros factores relevantes que permiten comprender\n",
       "        con\n",
       "        mayor detalle el ecosistema en el que trabajamos quienes formamos parte de este campo.\n",
       "    </p>\n",
       "\n",
       "    <p>\n",
       "        Mi interés no se limita únicamente a observar números y porcentajes, sino a interpretar lo que esos datos dicen\n",
       "        acerca\n",
       "        de la realidad que viven los desarrolladores día a día. ¿Qué lenguajes aparecen como emergentes y ganan\n",
       "        popularidad a\n",
       "        gran velocidad? ¿Cuáles, en cambio, empiezan a perder vigencia frente a alternativas más modernas? ¿Cómo impacta\n",
       "        la\n",
       "        experiencia laboral, el país de residencia o el rol desempeñado en la brecha salarial entre profesionales? Estas\n",
       "        son\n",
       "        preguntas que, más allá de lo académico, también me interpelan personalmente porque me ayudan a visualizar en\n",
       "        qué lugar\n",
       "        del mercado laboral me encuentro y hacia dónde puedo proyectar mi crecimiento.\n",
       "    </p>\n",
       "\n",
       "    <p>\n",
       "        Este análisis exploratorio será además la base de la siguiente fase del proyecto, en la cual se seleccionará y\n",
       "        aplicará\n",
       "        un modelo de Aprendizaje Automático al mismo dataset. En resumen, mi propósito no es solo practicar y afianzar\n",
       "        mis\n",
       "        habilidades en <strong>Ciencia de Datos</strong>, Python y herramientas asociadas, sino también ganar una\n",
       "        comprensión\n",
       "        más humana y realista de la industria tecnológica. Con ello, espero fortalecer mi perfil profesional y\n",
       "        prepararme mejor\n",
       "        para los desafíos que vendrán en mi carrera como desarrollador.\n",
       "    </p>\n",
       "\n",
       "\n",
       "    <h2 style=\"color:#f8c2fb;\">❓ Preguntas e Hipótesis</h2>\n",
       "    <ol>\n",
       "        <li>¿Qué lenguajes de programación están en auge?</li>\n",
       "        <li>¿Qué tecnologías están perdiendo relevancia?</li>\n",
       "        <li>¿Cómo varían los salarios dependiendo de la región, el rol o los años de experiencia?</li>\n",
       "    </ol>\n",
       "</div>\n",
       "</body>\n",
       "</html>"
      ]
     },
     "execution_count": 18,
     "metadata": {},
     "output_type": "execute_result"
    }
   ],
   "execution_count": 18
  }
 ],
 "metadata": {
  "kernelspec": {
   "display_name": "Python 3",
   "language": "python",
   "name": "python3"
  },
  "language_info": {
   "codemirror_mode": {
    "name": "ipython",
    "version": 2
   },
   "file_extension": ".py",
   "mimetype": "text/x-python",
   "name": "python",
   "nbconvert_exporter": "python",
   "pygments_lexer": "ipython2",
   "version": "2.7.6"
  }
 },
 "nbformat": 4,
 "nbformat_minor": 5
}
