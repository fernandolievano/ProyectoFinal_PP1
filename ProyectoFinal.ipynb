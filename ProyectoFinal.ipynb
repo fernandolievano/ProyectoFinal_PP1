{
  "cells": [
    {
      "cell_type": "markdown",
      "metadata": {
        "id": "view-in-github",
        "colab_type": "text"
      },
      "source": [
        "<a href=\"https://colab.research.google.com/github/fernandolievano/ProyectoFinal_PP1/blob/main/ProyectoFinal.ipynb\" target=\"_parent\"><img src=\"https://colab.research.google.com/assets/colab-badge.svg\" alt=\"Open In Colab\"/></a>"
      ]
    },
    {
      "metadata": {
        "ExecuteTime": {
          "end_time": "2025-09-28T20:34:26.414034Z",
          "start_time": "2025-09-28T20:34:26.406329Z"
        },
        "id": "dc0a0e601ec608ec",
        "outputId": "9e71220e-85ef-4eaf-ccf2-ae7d6779d837",
        "colab": {
          "base_uri": "https://localhost:8080/",
          "height": 715
        }
      },
      "cell_type": "code",
      "source": [
        "from urllib.request import urlopen\n",
        "from IPython.display import HTML\n",
        "\n",
        "RAW_URL = \"https://raw.githubusercontent.com/fernandolievano/ProyectoFinal_PP1/main/assets/doc.html\"\n",
        "with urlopen(RAW_URL) as f:\n",
        "    html = f.read().decode(\"utf-8\", errors=\"replace\")\n",
        "HTML(html)"
      ],
      "id": "dc0a0e601ec608ec",
      "outputs": [
        {
          "output_type": "execute_result",
          "data": {
            "text/plain": [
              "<IPython.core.display.HTML object>"
            ],
            "text/html": [
              "<!DOCTYPE html>\n",
              "<html lang=\"es\">\n",
              "<body>\n",
              "<div style=\"\n",
              "  font-family: 'Segoe UI', 'Roboto', sans-serif;\n",
              "  background: #0a0a0f;\n",
              "  color: #f2f2f2;\n",
              "  padding: 28px;\n",
              "  border-radius: 14px;\n",
              "  border: 2px solid #1e1e2f;\n",
              "  box-shadow: 0 0 12px rgba(0,0,0,.4), 0 0 20px rgba(138,92,255,.25);\n",
              "  line-height: 1.7;\n",
              "\">\n",
              "    <h1 style=\"\n",
              "    font-size: 36px;\n",
              "    background: linear-gradient(90deg, #ff5e80, #8a5cff, #00e0ff);\n",
              "    -webkit-background-clip: text;\n",
              "    -webkit-text-fill-color: transparent;\n",
              "    text-shadow: 0 0 8px rgba(255,94,128,.5), 0 0 12px rgba(0,224,255,.4);\n",
              "    margin-top: 0;\n",
              "    line-height: 1.3;\n",
              "  \">\n",
              "        Proyecto Final: <br>\n",
              "        Análisis de Encuesta de Desarrolladores por Stack Overflow en 2025 👨‍💻\n",
              "    </h1>\n",
              "\n",
              "    <h2 style=\"color:#8a5cff;\">👤 Alumno</h2>\n",
              "    <p><strong>Fernando Javier García Liévano</strong></p>\n",
              "\n",
              "    <h2 style=\"color:#00e0ff;\">📑 Abstract</h2>\n",
              "    <p>\n",
              "        Durante mi proyecto, estaré llevando a cabo un análisis exploratorio enfocado en un conjunto de datos obtenido\n",
              "        de la\n",
              "        <strong>Encuesta a Desarrolladores de Stack Overflow 2025</strong>. Esta encuesta es ampliamente reconocida en\n",
              "        la\n",
              "        comunidad tecnológica, ya que recopila información de miles de desarrolladores alrededor del mundo, brindándonos\n",
              "        una\n",
              "        visión muy completa del estado actual de la industria del desarrollo de software. Los datos en el conjunto\n",
              "        seleccionado\n",
              "        incluyen aspectos como los lenguajes de programación más utilizados, las tecnologías que marcan tendencia, los\n",
              "        roles\n",
              "        más comunes dentro de las empresas, los niveles salariales y otros factores relevantes que permiten comprender\n",
              "        con\n",
              "        mayor detalle el ecosistema en el que trabajamos quienes formamos parte de este campo.\n",
              "    </p>\n",
              "\n",
              "    <p>\n",
              "        Mi interés no se limita únicamente a observar números y porcentajes, sino a interpretar lo que esos datos dicen\n",
              "        acerca\n",
              "        de la realidad que viven los desarrolladores día a día. ¿Qué lenguajes aparecen como emergentes y ganan\n",
              "        popularidad a\n",
              "        gran velocidad? ¿Cuáles, en cambio, empiezan a perder vigencia frente a alternativas más modernas? ¿Cómo impacta\n",
              "        la\n",
              "        experiencia laboral, el país de residencia o el rol desempeñado en la brecha salarial entre profesionales? Estas\n",
              "        son\n",
              "        preguntas que, más allá de lo académico, también me interpelan personalmente porque me ayudan a visualizar en\n",
              "        qué lugar\n",
              "        del mercado laboral me encuentro y hacia dónde puedo proyectar mi crecimiento.\n",
              "    </p>\n",
              "\n",
              "    <p>\n",
              "        Este análisis exploratorio será además la base de la siguiente fase del proyecto, en la cual se seleccionará y\n",
              "        aplicará\n",
              "        un modelo de Aprendizaje Automático al mismo dataset. En resumen, mi propósito no es solo practicar y afianzar\n",
              "        mis\n",
              "        habilidades en <strong>Ciencia de Datos</strong>, Python y herramientas asociadas, sino también ganar una\n",
              "        comprensión\n",
              "        más humana y realista de la industria tecnológica. Con ello, espero fortalecer mi perfil profesional y\n",
              "        prepararme mejor\n",
              "        para los desafíos que vendrán en mi carrera como desarrollador.\n",
              "    </p>\n",
              "\n",
              "\n",
              "    <h2 style=\"color:#f8c2fb;\">❓ Preguntas e Hipótesis</h2>\n",
              "    <ol>\n",
              "        <li>¿Qué lenguajes de programación están en auge?</li>\n",
              "        <li>¿Qué tecnologías muestran menor interés futuro?</li>\n",
              "        <li>¿Cómo varían los salarios dependiendo de la región, el rol o los años de experiencia?</li>\n",
              "    </ol>\n",
              "</div>\n",
              "</body>\n",
              "</html>"
            ]
          },
          "metadata": {},
          "execution_count": 17
        }
      ],
      "execution_count": 17
    },
    {
      "metadata": {
        "id": "36be470869e9a74a"
      },
      "cell_type": "markdown",
      "source": [
        "# Preparación del entorno y dataset"
      ],
      "id": "36be470869e9a74a"
    },
    {
      "metadata": {
        "ExecuteTime": {
          "end_time": "2025-09-28T20:34:27.899464Z",
          "start_time": "2025-09-28T20:34:26.543356Z"
        },
        "id": "b704d68196be6ed7",
        "outputId": "1d9574b1-0972-424b-916e-c1e748eee3e7",
        "colab": {
          "base_uri": "https://localhost:8080/"
        }
      },
      "cell_type": "code",
      "source": [
        "%pip install pandas numpy plotly"
      ],
      "id": "b704d68196be6ed7",
      "outputs": [
        {
          "output_type": "stream",
          "name": "stdout",
          "text": [
            "Requirement already satisfied: pandas in /usr/local/lib/python3.12/dist-packages (2.2.2)\n",
            "Requirement already satisfied: numpy in /usr/local/lib/python3.12/dist-packages (2.0.2)\n",
            "Requirement already satisfied: plotly in /usr/local/lib/python3.12/dist-packages (5.24.1)\n",
            "Requirement already satisfied: python-dateutil>=2.8.2 in /usr/local/lib/python3.12/dist-packages (from pandas) (2.9.0.post0)\n",
            "Requirement already satisfied: pytz>=2020.1 in /usr/local/lib/python3.12/dist-packages (from pandas) (2025.2)\n",
            "Requirement already satisfied: tzdata>=2022.7 in /usr/local/lib/python3.12/dist-packages (from pandas) (2025.2)\n",
            "Requirement already satisfied: tenacity>=6.2.0 in /usr/local/lib/python3.12/dist-packages (from plotly) (8.5.0)\n",
            "Requirement already satisfied: packaging in /usr/local/lib/python3.12/dist-packages (from plotly) (25.0)\n",
            "Requirement already satisfied: six>=1.5 in /usr/local/lib/python3.12/dist-packages (from python-dateutil>=2.8.2->pandas) (1.17.0)\n"
          ]
        }
      ],
      "execution_count": 18
    },
    {
      "metadata": {
        "ExecuteTime": {
          "end_time": "2025-09-28T20:34:29.092423Z",
          "start_time": "2025-09-28T20:34:28.022298Z"
        },
        "id": "53b37821f3ad062a"
      },
      "cell_type": "code",
      "source": [
        "# importación de librerías a utilizar\n",
        "import pandas as pd\n",
        "import plotly.express as px"
      ],
      "id": "53b37821f3ad062a",
      "outputs": [],
      "execution_count": 19
    },
    {
      "metadata": {
        "ExecuteTime": {
          "end_time": "2025-09-28T20:34:36.582009Z",
          "start_time": "2025-09-28T20:34:29.148453Z"
        },
        "id": "f22e01a50623b8",
        "outputId": "556f7daf-88ae-4e18-de8f-e8425974fdbc",
        "colab": {
          "base_uri": "https://localhost:8080/"
        }
      },
      "cell_type": "code",
      "source": [
        "# importación de dataset\n",
        "dataset_url = \"https://raw.githubusercontent.com/fernandolievano/ProyectoFinal_PP1/main/data/stack-overflow-developer-survey-2025.csv.gz\"\n",
        "df = pd.read_csv(dataset_url, compression='gzip')  # especifico que estoy usando un archivo .gz\n",
        "\n",
        "print(\"✅ DataSet cargado con éxto\")\n",
        "print(f\"ℹ️ Forma del DataSet: {df.shape}\")\n",
        "print(\"ℹ️ Información del DataSet\")\n",
        "df.info()"
      ],
      "id": "f22e01a50623b8",
      "outputs": [
        {
          "output_type": "stream",
          "name": "stdout",
          "text": [
            "✅ DataSet cargado con éxto\n",
            "ℹ️ Forma del DataSet: (49123, 170)\n",
            "ℹ️ Información del DataSet\n",
            "<class 'pandas.core.frame.DataFrame'>\n",
            "RangeIndex: 49123 entries, 0 to 49122\n",
            "Columns: 170 entries, ResponseId to JobSat\n",
            "dtypes: float64(50), int64(1), object(119)\n",
            "memory usage: 63.7+ MB\n"
          ]
        }
      ],
      "execution_count": 20
    },
    {
      "metadata": {
        "id": "9b6f85256cb7fdea"
      },
      "cell_type": "markdown",
      "source": [
        "### Utils"
      ],
      "id": "9b6f85256cb7fdea"
    },
    {
      "metadata": {
        "ExecuteTime": {
          "end_time": "2025-09-28T20:34:36.645250Z",
          "start_time": "2025-09-28T20:34:36.641662Z"
        },
        "id": "e0fa904d86adb5a6"
      },
      "cell_type": "code",
      "source": [
        "# Funciones Reutilizables\n",
        "\n",
        "def contar_valores_explodidos(dataframe, columna, separador):\n",
        "    \"\"\"\n",
        "    Cuenta las incidencias de valores en una columna que contiene strings\n",
        "    separados por un delimitador.\n",
        "    :param dataframe:\n",
        "    :param columna:\n",
        "    :param separador:\n",
        "    :return:\n",
        "        Una Serie de pandas\n",
        "    \"\"\"\n",
        "    if columna not in dataframe.columns:\n",
        "        raise ValueError(f\"Columna {columna} no encontrada\")\n",
        "\n",
        "    return (dataframe[columna]\n",
        "            .str.split(separador)\n",
        "            .explode()  # cada elemento de la lista se vuelve una fila\n",
        "            .value_counts())\n"
      ],
      "id": "e0fa904d86adb5a6",
      "outputs": [],
      "execution_count": 21
    },
    {
      "metadata": {
        "id": "f8e91d9c24a8c316"
      },
      "cell_type": "markdown",
      "source": [
        "# Análisis Exploratorio de Datos\n",
        "Llevaremos a cabo un análisis exploratorio de datos utilizando visualizaciones interactivas y estadísticas descriptivas, con el objetivo de comprender mejor los resultados de la encuesta hecha por Stack Overflow en 2025. Mediante este proceso podremos responder preguntas sobre lenguajes de programación más usados, tecnologías en tendencias, roles comunes y niveles salariales."
      ],
      "id": "f8e91d9c24a8c316"
    },
    {
      "metadata": {
        "id": "5f3ff6a8ea31d5a9"
      },
      "cell_type": "markdown",
      "source": [
        "## Verificación de nulos"
      ],
      "id": "5f3ff6a8ea31d5a9"
    },
    {
      "metadata": {
        "ExecuteTime": {
          "end_time": "2025-09-28T20:34:36.981793Z",
          "start_time": "2025-09-28T20:34:36.694277Z"
        },
        "id": "44f881539dc350c6",
        "outputId": "b906a92f-e716-434c-ff1a-7fd3e52174e2",
        "colab": {
          "base_uri": "https://localhost:8080/"
        }
      },
      "cell_type": "code",
      "source": [
        "pd.set_option('display.max_rows', None)  # Activo display.max_rows para poder ver todos mis campos nulos\n",
        "\n",
        "tiene_nulos = df.isnull().sum() > 0  # Máscara para mostrar solo resultados con valores nulos\n",
        "nulos = df.isnull().sum()[tiene_nulos].sort_values(ascending=False)\n",
        "nulos_cantidad = len(nulos)\n",
        "nulos_porcentaje = (nulos / df.shape[0]) * 100\n",
        "\n",
        "print(f\"❗ Encontramos {nulos_cantidad} campos con datos nulos\")\n",
        "print(\"ℹ️ Porcentaje de valores nulos encontrados por campo:\")\n",
        "\n",
        "print(nulos_porcentaje.sort_values(ascending=False).to_frame(name=\"Porcentaje\"))\n",
        "\n",
        "pd.reset_option('display.max_rows', None)  # Desactivo de nuevo display.max_rows"
      ],
      "id": "44f881539dc350c6",
      "outputs": [
        {
          "output_type": "stream",
          "name": "stdout",
          "text": [
            "❗ Encontramos 167 campos con datos nulos\n",
            "ℹ️ Porcentaje de valores nulos encontrados por campo:\n",
            "                                          Porcentaje\n",
            "AIAgentObsWrite                            99.462574\n",
            "SOTagsWant Entry                           99.124646\n",
            "SOTagsHaveEntry                            99.069682\n",
            "AIModelsWantEntry                          99.035075\n",
            "AIAgentOrchWrite                           99.028968\n",
            "JobSatPoints_15_TEXT                       98.648291\n",
            "AIAgentKnowWrite                           98.442685\n",
            "AIModelsHaveEntry                          98.422328\n",
            "SO_Actions_15_TEXT                         98.324614\n",
            "AIAgentExtWrite                            98.253364\n",
            "CommPlatformWantEntr                       97.591759\n",
            "CommPlatformHaveEntr                       96.997333\n",
            "DatabaseWantEntry                          96.889441\n",
            "OfficeStackWantEntry                       96.708263\n",
            "TechOppose_15_TEXT                         96.651263\n",
            "TechEndorse_13_TEXT                        95.912302\n",
            "DevEnvWantEntry                            95.704660\n",
            "DatabaseHaveEntry                          95.627303\n",
            "OfficeStackHaveEntry                       94.733628\n",
            "WebframeWantEntry                          94.654235\n",
            "AIAgentObserveSecure                       94.521914\n",
            "DevEnvHaveEntry                            94.381451\n",
            "PlatformWantEntry                          93.697453\n",
            "LanguagesWantEntry                         93.597704\n",
            "WebframeHaveEntry                          93.302526\n",
            "AIAgentKnowledge                           93.078599\n",
            "AIAgentOrchestration                       92.345744\n",
            "AIAgentImpactStrongly disagree             92.313173\n",
            "PlatformHaveEntry                          91.954889\n",
            "LanguagesHaveEntry                         91.908068\n",
            "AIAgentImpactSomewhat disagree             88.225475\n",
            "AgentUsesGeneral                           88.192904\n",
            "AIAgentImpactStrongly agree                86.397411\n",
            "AIAgentExternal                            83.050709\n",
            "AIAgentChallengesStrongly disagree         81.057753\n",
            "AIAgentImpactNeutral                       80.324899\n",
            "AIAgentImpactSomewhat agree                79.368117\n",
            "AIToolCurrently mostly AI                  77.179733\n",
            "AIModelsAdmired                            77.053519\n",
            "AIModelsWantToWorkWith                     75.913523\n",
            "AIAgentChallengesSomewhat disagree         75.335383\n",
            "SOTagsAdmired                              75.105348\n",
            "AIAgent_Uses                               74.946563\n",
            "AIToolPlan to mostly use AI                73.940924\n",
            "SOTagsWantToWorkWith                       72.363251\n",
            "WebframeAdmired                            68.045518\n",
            "AIModelsHaveWorkedWith                     66.897380\n",
            "DatabaseAdmired                            64.818924\n",
            "WebframeWantToWorkWith                     64.124748\n",
            "PlatformAdmired                            63.756285\n",
            "SOTagsHaveWorkedWith                       63.548643\n",
            "PlatformWantToWorkWith                     60.515441\n",
            "DevEnvsAdmired                             60.364799\n",
            "DatabaseWantToWorkWith                     59.859943\n",
            "DevEnvsWantToWorkWith                      58.080736\n",
            "AIToolCurrently partially AI               57.244061\n",
            "AIAgentChallengesNeutral                   56.682206\n",
            "AIAgentChallengesSomewhat agree            55.363068\n",
            "OfficeStackAsyncAdmired                    54.837856\n",
            "AIOpen                                     54.155894\n",
            "AIToolPlan to partially use AI             54.133502\n",
            "SO_Dev_Content                             53.545183\n",
            "CommPlatformAdmired                        53.471897\n",
            "WebframeHaveWorkedWith                     53.239827\n",
            "AIAgentChallengesStrongly agree            53.011827\n",
            "OfficeStackAsyncWantToWorkWith             52.806221\n",
            "CommPlatformWantToWorkWith                 52.506972\n",
            "LanguageAdmired                            52.268795\n",
            "ConvertedCompYearly                        51.289620\n",
            "PlatformHaveWorkedWith                     50.666694\n",
            "SO_Actions_16                              50.489587\n",
            "CompTotal                                  49.435092\n",
            "JobSatPoints_11                            49.276306\n",
            "JobSatPoints_6                             49.276306\n",
            "JobSatPoints_5                             49.276306\n",
            "JobSatPoints_1                             49.276306\n",
            "JobSatPoints_14                            49.276306\n",
            "JobSatPoints_13                            49.276306\n",
            "JobSatPoints_15                            49.276306\n",
            "JobSatPoints_8                             49.276306\n",
            "JobSatPoints_4                             49.276306\n",
            "JobSatPoints_7                             49.276306\n",
            "JobSatPoints_16                            49.276306\n",
            "JobSatPoints_10                            49.276306\n",
            "JobSatPoints_9                             49.276306\n",
            "AIToolDon't plan to use AI for this task   48.378560\n",
            "DatabaseHaveWorkedWith                     48.032490\n",
            "ToolCountPersonal                          47.977526\n",
            "DevEnvsHaveWorkedWith                      47.083851\n",
            "SO_Actions_10                              46.581031\n",
            "SO_Actions_7                               46.581031\n",
            "SO_Actions_9                               46.581031\n",
            "SO_Actions_1                               46.581031\n",
            "SO_Actions_3                               46.581031\n",
            "SO_Actions_4                               46.581031\n",
            "SO_Actions_6                               46.581031\n",
            "SO_Actions_5                               46.581031\n",
            "SO_Actions_15                              46.581031\n",
            "AIExplain                                  45.923498\n",
            "JobSat                                     45.762677\n",
            "LanguageWantToWorkWith                     44.926002\n",
            "ToolCountWork                              43.851149\n",
            "AILearnHow                                 42.544226\n",
            "OpSysProfessional use                      41.253588\n",
            "AIHuman                                    40.624555\n",
            "OfficeStackAsyncHaveWorkedWith             39.274881\n",
            "CommPlatformHaveWorkedWith                 38.851455\n",
            "AIModelsChoice                             38.501313\n",
            "SOFriction                                 37.375567\n",
            "DevEnvsChoice                              36.789284\n",
            "WebframeChoice                             36.559249\n",
            "PlatformChoice                             36.418785\n",
            "OpSysPersonal use                          36.103251\n",
            "AIFrustration                              35.893573\n",
            "LanguageHaveWorkedWith                     35.584146\n",
            "AIAgentChange                              35.576003\n",
            "DatabaseChoice                             35.551575\n",
            "SOComm                                     35.512896\n",
            "AIAgents                                   35.081326\n",
            "LanguageChoice                             34.480793\n",
            "SOPartFreq                                 34.450258\n",
            "SODuration                                 33.642082\n",
            "SOVisitFreq                                33.473118\n",
            "SOAccount                                  33.296012\n",
            "ICorPM                                     32.392158\n",
            "AIComplex                                  32.312766\n",
            "AIAcc                                      32.284266\n",
            "AISent                                     31.938196\n",
            "LearnCode                                  31.771268\n",
            "Industry                                   31.586019\n",
            "AISelect                                   31.425198\n",
            "RemoteWork                                 31.301020\n",
            "OrgSize                                    30.492844\n",
            "TechOppose_15                              30.323881\n",
            "TechOppose_11                              30.323881\n",
            "TechOppose_5                               30.323881\n",
            "TechOppose_1                               30.323881\n",
            "TechOppose_7                               30.323881\n",
            "TechOppose_9                               30.323881\n",
            "TechOppose_16                              30.323881\n",
            "TechOppose_13                              30.323881\n",
            "TechOppose_3                               30.323881\n",
            "TechOppose_2                               30.323881\n",
            "Country                                    27.931926\n",
            "Currency                                   27.931926\n",
            "NewRole                                    27.750748\n",
            "TechEndorse_1                              26.830609\n",
            "TechEndorse_4                              26.830609\n",
            "TechEndorse_3                              26.830609\n",
            "TechEndorse_2                              26.830609\n",
            "TechEndorse_8                              26.830609\n",
            "TechEndorse_9                              26.830609\n",
            "TechEndorse_13                             26.830609\n",
            "TechEndorse_5                              26.830609\n",
            "TechEndorse_6                              26.830609\n",
            "TechEndorse_7                              26.830609\n",
            "AIThreat                                   26.631110\n",
            "PurchaseInfluence                          23.860513\n",
            "TechEndorseIntro                           23.620300\n",
            "WorkExp                                    12.782200\n",
            "YearsCode                                  12.464630\n",
            "DevType                                    11.169920\n",
            "EmploymentAddl                              8.759644\n",
            "LearnCodeAI                                 8.081754\n",
            "LearnCodeChoose                             4.726910\n",
            "EdLevel                                     2.108992\n",
            "Employment                                  1.722208\n"
          ]
        }
      ],
      "execution_count": 22
    },
    {
      "metadata": {
        "id": "1a59ed3b1bc4dff4"
      },
      "cell_type": "markdown",
      "source": [
        "### Altos nulos\n",
        "En este gráfico se muestran las variables con mayor porcentaje de valores faltantes.\n",
        "Dado que superan ampliamente el 80% de nulos, pueden considerarse prescindibles para el análisis, ya que su nivel de completitud es insuficiente para obtener insights confiables."
      ],
      "id": "1a59ed3b1bc4dff4"
    },
    {
      "metadata": {
        "ExecuteTime": {
          "end_time": "2025-09-28T20:34:38.375789Z",
          "start_time": "2025-09-28T20:34:36.992989Z"
        },
        "id": "95d479184630cff5",
        "outputId": "d8a0984d-abf6-4767-98a9-7944708db3e6",
        "colab": {
          "base_uri": "https://localhost:8080/",
          "height": 1000
        }
      },
      "cell_type": "code",
      "source": [
        "sobre_80_porciento = nulos_porcentaje > 80  # Máscara obtener resultados mayores a 80%\n",
        "nulos_altos = nulos_porcentaje[sobre_80_porciento].sort_values(ascending=False)\n",
        "\n",
        "# Gráfico\n",
        "fig_altos_nulos = px.bar(\n",
        "    nulos_altos,\n",
        "    color='value',\n",
        "    orientation='h',\n",
        "    title='⚠️ Variables con más del 80% de valores nulos',\n",
        "    labels={'value': 'Porcentaje de Nulos', 'index': 'Variable'},\n",
        "    color_continuous_scale='Reds'\n",
        ")\n",
        "fig_altos_nulos.update_layout(\n",
        "    height=40 * len(nulos_altos),\n",
        "    font=dict(\n",
        "        size=14,\n",
        "        color='#fff',\n",
        "    ),\n",
        "    title=dict(\n",
        "        xanchor='center',\n",
        "        x=0.5\n",
        "    ),\n",
        "    paper_bgcolor='black',\n",
        "    plot_bgcolor='black',\n",
        ")\n",
        "fig_altos_nulos.show()"
      ],
      "id": "95d479184630cff5",
      "outputs": [
        {
          "output_type": "display_data",
          "data": {
            "text/html": [
              "<html>\n",
              "<head><meta charset=\"utf-8\" /></head>\n",
              "<body>\n",
              "    <div>            <script src=\"https://cdnjs.cloudflare.com/ajax/libs/mathjax/2.7.5/MathJax.js?config=TeX-AMS-MML_SVG\"></script><script type=\"text/javascript\">if (window.MathJax && window.MathJax.Hub && window.MathJax.Hub.Config) {window.MathJax.Hub.Config({SVG: {font: \"STIX-Web\"}});}</script>                <script type=\"text/javascript\">window.PlotlyConfig = {MathJaxConfig: 'local'};</script>\n",
              "        <script charset=\"utf-8\" src=\"https://cdn.plot.ly/plotly-2.35.2.min.js\"></script>                <div id=\"291669a1-2c90-450c-bdc6-5b75ce575d1b\" class=\"plotly-graph-div\" style=\"height:1440px; width:100%;\"></div>            <script type=\"text/javascript\">                                    window.PLOTLYENV=window.PLOTLYENV || {};                                    if (document.getElementById(\"291669a1-2c90-450c-bdc6-5b75ce575d1b\")) {                    Plotly.newPlot(                        \"291669a1-2c90-450c-bdc6-5b75ce575d1b\",                        [{\"alignmentgroup\":\"True\",\"hovertemplate\":\"Porcentaje de Nulos=%{marker.color}\\u003cbr\\u003eVariable=%{y}\\u003cextra\\u003e\\u003c\\u002fextra\\u003e\",\"legendgroup\":\"\",\"marker\":{\"color\":[99.46257353988966,99.12464629603241,99.0696822262484,99.03507521934736,99.02896810048246,98.64829102457098,98.442684689453,98.42232762657004,98.32461372473179,98.25336400464141,97.59175946094497,96.99733322476233,96.8894407914826,96.7082629318242,96.65126315575189,95.91230177310017,95.70465973169391,95.62730289273863,94.73362783217637,94.6542352869328,94.52191437819351,94.38145064430104,93.69745333143335,93.59770372330681,93.30252631150377,93.07859861979114,92.34574435600432,92.31317305539157,91.95488874865134,91.90806750402052,88.22547482849174,88.192903527879,86.39741058160129,83.05070944364147,81.05775298739898,80.32489872361216],\"coloraxis\":\"coloraxis\",\"pattern\":{\"shape\":\"\"}},\"name\":\"\",\"offsetgroup\":\"\",\"orientation\":\"h\",\"showlegend\":false,\"textposition\":\"auto\",\"x\":[99.46257353988966,99.12464629603241,99.0696822262484,99.03507521934736,99.02896810048246,98.64829102457098,98.442684689453,98.42232762657004,98.32461372473179,98.25336400464141,97.59175946094497,96.99733322476233,96.8894407914826,96.7082629318242,96.65126315575189,95.91230177310017,95.70465973169391,95.62730289273863,94.73362783217637,94.6542352869328,94.52191437819351,94.38145064430104,93.69745333143335,93.59770372330681,93.30252631150377,93.07859861979114,92.34574435600432,92.31317305539157,91.95488874865134,91.90806750402052,88.22547482849174,88.192903527879,86.39741058160129,83.05070944364147,81.05775298739898,80.32489872361216],\"xaxis\":\"x\",\"y\":[\"AIAgentObsWrite\",\"SOTagsWant Entry\",\"SOTagsHaveEntry\",\"AIModelsWantEntry\",\"AIAgentOrchWrite\",\"JobSatPoints_15_TEXT\",\"AIAgentKnowWrite\",\"AIModelsHaveEntry\",\"SO_Actions_15_TEXT\",\"AIAgentExtWrite\",\"CommPlatformWantEntr\",\"CommPlatformHaveEntr\",\"DatabaseWantEntry\",\"OfficeStackWantEntry\",\"TechOppose_15_TEXT\",\"TechEndorse_13_TEXT\",\"DevEnvWantEntry\",\"DatabaseHaveEntry\",\"OfficeStackHaveEntry\",\"WebframeWantEntry\",\"AIAgentObserveSecure\",\"DevEnvHaveEntry\",\"PlatformWantEntry\",\"LanguagesWantEntry\",\"WebframeHaveEntry\",\"AIAgentKnowledge\",\"AIAgentOrchestration\",\"AIAgentImpactStrongly disagree\",\"PlatformHaveEntry\",\"LanguagesHaveEntry\",\"AIAgentImpactSomewhat disagree\",\"AgentUsesGeneral\",\"AIAgentImpactStrongly agree\",\"AIAgentExternal\",\"AIAgentChallengesStrongly disagree\",\"AIAgentImpactNeutral\"],\"yaxis\":\"y\",\"type\":\"bar\"}],                        {\"template\":{\"data\":{\"histogram2dcontour\":[{\"type\":\"histogram2dcontour\",\"colorbar\":{\"outlinewidth\":0,\"ticks\":\"\"},\"colorscale\":[[0.0,\"#0d0887\"],[0.1111111111111111,\"#46039f\"],[0.2222222222222222,\"#7201a8\"],[0.3333333333333333,\"#9c179e\"],[0.4444444444444444,\"#bd3786\"],[0.5555555555555556,\"#d8576b\"],[0.6666666666666666,\"#ed7953\"],[0.7777777777777778,\"#fb9f3a\"],[0.8888888888888888,\"#fdca26\"],[1.0,\"#f0f921\"]]}],\"choropleth\":[{\"type\":\"choropleth\",\"colorbar\":{\"outlinewidth\":0,\"ticks\":\"\"}}],\"histogram2d\":[{\"type\":\"histogram2d\",\"colorbar\":{\"outlinewidth\":0,\"ticks\":\"\"},\"colorscale\":[[0.0,\"#0d0887\"],[0.1111111111111111,\"#46039f\"],[0.2222222222222222,\"#7201a8\"],[0.3333333333333333,\"#9c179e\"],[0.4444444444444444,\"#bd3786\"],[0.5555555555555556,\"#d8576b\"],[0.6666666666666666,\"#ed7953\"],[0.7777777777777778,\"#fb9f3a\"],[0.8888888888888888,\"#fdca26\"],[1.0,\"#f0f921\"]]}],\"heatmap\":[{\"type\":\"heatmap\",\"colorbar\":{\"outlinewidth\":0,\"ticks\":\"\"},\"colorscale\":[[0.0,\"#0d0887\"],[0.1111111111111111,\"#46039f\"],[0.2222222222222222,\"#7201a8\"],[0.3333333333333333,\"#9c179e\"],[0.4444444444444444,\"#bd3786\"],[0.5555555555555556,\"#d8576b\"],[0.6666666666666666,\"#ed7953\"],[0.7777777777777778,\"#fb9f3a\"],[0.8888888888888888,\"#fdca26\"],[1.0,\"#f0f921\"]]}],\"heatmapgl\":[{\"type\":\"heatmapgl\",\"colorbar\":{\"outlinewidth\":0,\"ticks\":\"\"},\"colorscale\":[[0.0,\"#0d0887\"],[0.1111111111111111,\"#46039f\"],[0.2222222222222222,\"#7201a8\"],[0.3333333333333333,\"#9c179e\"],[0.4444444444444444,\"#bd3786\"],[0.5555555555555556,\"#d8576b\"],[0.6666666666666666,\"#ed7953\"],[0.7777777777777778,\"#fb9f3a\"],[0.8888888888888888,\"#fdca26\"],[1.0,\"#f0f921\"]]}],\"contourcarpet\":[{\"type\":\"contourcarpet\",\"colorbar\":{\"outlinewidth\":0,\"ticks\":\"\"}}],\"contour\":[{\"type\":\"contour\",\"colorbar\":{\"outlinewidth\":0,\"ticks\":\"\"},\"colorscale\":[[0.0,\"#0d0887\"],[0.1111111111111111,\"#46039f\"],[0.2222222222222222,\"#7201a8\"],[0.3333333333333333,\"#9c179e\"],[0.4444444444444444,\"#bd3786\"],[0.5555555555555556,\"#d8576b\"],[0.6666666666666666,\"#ed7953\"],[0.7777777777777778,\"#fb9f3a\"],[0.8888888888888888,\"#fdca26\"],[1.0,\"#f0f921\"]]}],\"surface\":[{\"type\":\"surface\",\"colorbar\":{\"outlinewidth\":0,\"ticks\":\"\"},\"colorscale\":[[0.0,\"#0d0887\"],[0.1111111111111111,\"#46039f\"],[0.2222222222222222,\"#7201a8\"],[0.3333333333333333,\"#9c179e\"],[0.4444444444444444,\"#bd3786\"],[0.5555555555555556,\"#d8576b\"],[0.6666666666666666,\"#ed7953\"],[0.7777777777777778,\"#fb9f3a\"],[0.8888888888888888,\"#fdca26\"],[1.0,\"#f0f921\"]]}],\"mesh3d\":[{\"type\":\"mesh3d\",\"colorbar\":{\"outlinewidth\":0,\"ticks\":\"\"}}],\"scatter\":[{\"fillpattern\":{\"fillmode\":\"overlay\",\"size\":10,\"solidity\":0.2},\"type\":\"scatter\"}],\"parcoords\":[{\"type\":\"parcoords\",\"line\":{\"colorbar\":{\"outlinewidth\":0,\"ticks\":\"\"}}}],\"scatterpolargl\":[{\"type\":\"scatterpolargl\",\"marker\":{\"colorbar\":{\"outlinewidth\":0,\"ticks\":\"\"}}}],\"bar\":[{\"error_x\":{\"color\":\"#2a3f5f\"},\"error_y\":{\"color\":\"#2a3f5f\"},\"marker\":{\"line\":{\"color\":\"#E5ECF6\",\"width\":0.5},\"pattern\":{\"fillmode\":\"overlay\",\"size\":10,\"solidity\":0.2}},\"type\":\"bar\"}],\"scattergeo\":[{\"type\":\"scattergeo\",\"marker\":{\"colorbar\":{\"outlinewidth\":0,\"ticks\":\"\"}}}],\"scatterpolar\":[{\"type\":\"scatterpolar\",\"marker\":{\"colorbar\":{\"outlinewidth\":0,\"ticks\":\"\"}}}],\"histogram\":[{\"marker\":{\"pattern\":{\"fillmode\":\"overlay\",\"size\":10,\"solidity\":0.2}},\"type\":\"histogram\"}],\"scattergl\":[{\"type\":\"scattergl\",\"marker\":{\"colorbar\":{\"outlinewidth\":0,\"ticks\":\"\"}}}],\"scatter3d\":[{\"type\":\"scatter3d\",\"line\":{\"colorbar\":{\"outlinewidth\":0,\"ticks\":\"\"}},\"marker\":{\"colorbar\":{\"outlinewidth\":0,\"ticks\":\"\"}}}],\"scattermapbox\":[{\"type\":\"scattermapbox\",\"marker\":{\"colorbar\":{\"outlinewidth\":0,\"ticks\":\"\"}}}],\"scatterternary\":[{\"type\":\"scatterternary\",\"marker\":{\"colorbar\":{\"outlinewidth\":0,\"ticks\":\"\"}}}],\"scattercarpet\":[{\"type\":\"scattercarpet\",\"marker\":{\"colorbar\":{\"outlinewidth\":0,\"ticks\":\"\"}}}],\"carpet\":[{\"aaxis\":{\"endlinecolor\":\"#2a3f5f\",\"gridcolor\":\"white\",\"linecolor\":\"white\",\"minorgridcolor\":\"white\",\"startlinecolor\":\"#2a3f5f\"},\"baxis\":{\"endlinecolor\":\"#2a3f5f\",\"gridcolor\":\"white\",\"linecolor\":\"white\",\"minorgridcolor\":\"white\",\"startlinecolor\":\"#2a3f5f\"},\"type\":\"carpet\"}],\"table\":[{\"cells\":{\"fill\":{\"color\":\"#EBF0F8\"},\"line\":{\"color\":\"white\"}},\"header\":{\"fill\":{\"color\":\"#C8D4E3\"},\"line\":{\"color\":\"white\"}},\"type\":\"table\"}],\"barpolar\":[{\"marker\":{\"line\":{\"color\":\"#E5ECF6\",\"width\":0.5},\"pattern\":{\"fillmode\":\"overlay\",\"size\":10,\"solidity\":0.2}},\"type\":\"barpolar\"}],\"pie\":[{\"automargin\":true,\"type\":\"pie\"}]},\"layout\":{\"autotypenumbers\":\"strict\",\"colorway\":[\"#636efa\",\"#EF553B\",\"#00cc96\",\"#ab63fa\",\"#FFA15A\",\"#19d3f3\",\"#FF6692\",\"#B6E880\",\"#FF97FF\",\"#FECB52\"],\"font\":{\"color\":\"#2a3f5f\"},\"hovermode\":\"closest\",\"hoverlabel\":{\"align\":\"left\"},\"paper_bgcolor\":\"white\",\"plot_bgcolor\":\"#E5ECF6\",\"polar\":{\"bgcolor\":\"#E5ECF6\",\"angularaxis\":{\"gridcolor\":\"white\",\"linecolor\":\"white\",\"ticks\":\"\"},\"radialaxis\":{\"gridcolor\":\"white\",\"linecolor\":\"white\",\"ticks\":\"\"}},\"ternary\":{\"bgcolor\":\"#E5ECF6\",\"aaxis\":{\"gridcolor\":\"white\",\"linecolor\":\"white\",\"ticks\":\"\"},\"baxis\":{\"gridcolor\":\"white\",\"linecolor\":\"white\",\"ticks\":\"\"},\"caxis\":{\"gridcolor\":\"white\",\"linecolor\":\"white\",\"ticks\":\"\"}},\"coloraxis\":{\"colorbar\":{\"outlinewidth\":0,\"ticks\":\"\"}},\"colorscale\":{\"sequential\":[[0.0,\"#0d0887\"],[0.1111111111111111,\"#46039f\"],[0.2222222222222222,\"#7201a8\"],[0.3333333333333333,\"#9c179e\"],[0.4444444444444444,\"#bd3786\"],[0.5555555555555556,\"#d8576b\"],[0.6666666666666666,\"#ed7953\"],[0.7777777777777778,\"#fb9f3a\"],[0.8888888888888888,\"#fdca26\"],[1.0,\"#f0f921\"]],\"sequentialminus\":[[0.0,\"#0d0887\"],[0.1111111111111111,\"#46039f\"],[0.2222222222222222,\"#7201a8\"],[0.3333333333333333,\"#9c179e\"],[0.4444444444444444,\"#bd3786\"],[0.5555555555555556,\"#d8576b\"],[0.6666666666666666,\"#ed7953\"],[0.7777777777777778,\"#fb9f3a\"],[0.8888888888888888,\"#fdca26\"],[1.0,\"#f0f921\"]],\"diverging\":[[0,\"#8e0152\"],[0.1,\"#c51b7d\"],[0.2,\"#de77ae\"],[0.3,\"#f1b6da\"],[0.4,\"#fde0ef\"],[0.5,\"#f7f7f7\"],[0.6,\"#e6f5d0\"],[0.7,\"#b8e186\"],[0.8,\"#7fbc41\"],[0.9,\"#4d9221\"],[1,\"#276419\"]]},\"xaxis\":{\"gridcolor\":\"white\",\"linecolor\":\"white\",\"ticks\":\"\",\"title\":{\"standoff\":15},\"zerolinecolor\":\"white\",\"automargin\":true,\"zerolinewidth\":2},\"yaxis\":{\"gridcolor\":\"white\",\"linecolor\":\"white\",\"ticks\":\"\",\"title\":{\"standoff\":15},\"zerolinecolor\":\"white\",\"automargin\":true,\"zerolinewidth\":2},\"scene\":{\"xaxis\":{\"backgroundcolor\":\"#E5ECF6\",\"gridcolor\":\"white\",\"linecolor\":\"white\",\"showbackground\":true,\"ticks\":\"\",\"zerolinecolor\":\"white\",\"gridwidth\":2},\"yaxis\":{\"backgroundcolor\":\"#E5ECF6\",\"gridcolor\":\"white\",\"linecolor\":\"white\",\"showbackground\":true,\"ticks\":\"\",\"zerolinecolor\":\"white\",\"gridwidth\":2},\"zaxis\":{\"backgroundcolor\":\"#E5ECF6\",\"gridcolor\":\"white\",\"linecolor\":\"white\",\"showbackground\":true,\"ticks\":\"\",\"zerolinecolor\":\"white\",\"gridwidth\":2}},\"shapedefaults\":{\"line\":{\"color\":\"#2a3f5f\"}},\"annotationdefaults\":{\"arrowcolor\":\"#2a3f5f\",\"arrowhead\":0,\"arrowwidth\":1},\"geo\":{\"bgcolor\":\"white\",\"landcolor\":\"#E5ECF6\",\"subunitcolor\":\"white\",\"showland\":true,\"showlakes\":true,\"lakecolor\":\"white\"},\"title\":{\"x\":0.05},\"mapbox\":{\"style\":\"light\"}}},\"xaxis\":{\"anchor\":\"y\",\"domain\":[0.0,1.0],\"title\":{\"text\":\"Porcentaje de Nulos\"}},\"yaxis\":{\"anchor\":\"x\",\"domain\":[0.0,1.0],\"title\":{\"text\":\"Variable\"}},\"coloraxis\":{\"colorbar\":{\"title\":{\"text\":\"Porcentaje de Nulos\"}},\"colorscale\":[[0.0,\"rgb(255,245,240)\"],[0.125,\"rgb(254,224,210)\"],[0.25,\"rgb(252,187,161)\"],[0.375,\"rgb(252,146,114)\"],[0.5,\"rgb(251,106,74)\"],[0.625,\"rgb(239,59,44)\"],[0.75,\"rgb(203,24,29)\"],[0.875,\"rgb(165,15,21)\"],[1.0,\"rgb(103,0,13)\"]]},\"legend\":{\"tracegroupgap\":0},\"title\":{\"text\":\"⚠️ Variables con más del 80% de valores nulos\",\"xanchor\":\"center\",\"x\":0.5},\"barmode\":\"relative\",\"font\":{\"size\":14,\"color\":\"#fff\"},\"height\":1440,\"paper_bgcolor\":\"black\",\"plot_bgcolor\":\"black\"},                        {\"responsive\": true}                    ).then(function(){\n",
              "                            \n",
              "var gd = document.getElementById('291669a1-2c90-450c-bdc6-5b75ce575d1b');\n",
              "var x = new MutationObserver(function (mutations, observer) {{\n",
              "        var display = window.getComputedStyle(gd).display;\n",
              "        if (!display || display === 'none') {{\n",
              "            console.log([gd, 'removed!']);\n",
              "            Plotly.purge(gd);\n",
              "            observer.disconnect();\n",
              "        }}\n",
              "}});\n",
              "\n",
              "// Listen for the removal of the full notebook cells\n",
              "var notebookContainer = gd.closest('#notebook-container');\n",
              "if (notebookContainer) {{\n",
              "    x.observe(notebookContainer, {childList: true});\n",
              "}}\n",
              "\n",
              "// Listen for the clearing of the current output cell\n",
              "var outputEl = gd.closest('.output');\n",
              "if (outputEl) {{\n",
              "    x.observe(outputEl, {childList: true});\n",
              "}}\n",
              "\n",
              "                        })                };                            </script>        </div>\n",
              "</body>\n",
              "</html>"
            ]
          },
          "metadata": {}
        }
      ],
      "execution_count": 23
    },
    {
      "metadata": {
        "id": "f0a23ae21ea4b94b"
      },
      "cell_type": "markdown",
      "source": [
        "### Nulos en variables clave\n",
        "Se muestran variables fundamentales del análisis (como país, educación y años de experiencia) que presentan un bajo porcentaje de valores faltantes, lo que permite tratarlos sin afectar la calidad de los resultados."
      ],
      "id": "f0a23ae21ea4b94b"
    },
    {
      "metadata": {
        "ExecuteTime": {
          "end_time": "2025-09-28T20:34:38.489134Z",
          "start_time": "2025-09-28T20:34:38.435086Z"
        },
        "id": "b5a74e1a7ee9de74",
        "outputId": "3c66ace5-2fb6-4ff8-dea8-b4e18a668f7f",
        "colab": {
          "base_uri": "https://localhost:8080/",
          "height": 542
        }
      },
      "cell_type": "code",
      "source": [
        "variables_clave = ['Country', 'Employment', 'EdLevel', 'WorkExp', 'YearsCode', 'ConvertedCompYearly']\n",
        "nulos_claves = nulos[variables_clave].sort_values(ascending=False)\n",
        "\n",
        "# Gráfico\n",
        "fig_nulos_clave = px.bar(\n",
        "    nulos_claves,\n",
        "    title='🔑 Cantidad de nulos en variables clave',\n",
        "    labels={'value': 'Cantidad de Nulos', 'index': 'Variable'},\n",
        "    color='value',\n",
        "    color_continuous_scale='sunsetdark'\n",
        ")\n",
        "fig_nulos_clave.update_layout(\n",
        "    font=dict(\n",
        "        size=14,\n",
        "        color='#fff',\n",
        "    ),\n",
        "    title=dict(\n",
        "        xanchor='center',\n",
        "        x=0.5\n",
        "    ),\n",
        "    paper_bgcolor='black',\n",
        "    plot_bgcolor='black',\n",
        ")\n",
        "fig_nulos_clave.show()"
      ],
      "id": "b5a74e1a7ee9de74",
      "outputs": [
        {
          "output_type": "display_data",
          "data": {
            "text/html": [
              "<html>\n",
              "<head><meta charset=\"utf-8\" /></head>\n",
              "<body>\n",
              "    <div>            <script src=\"https://cdnjs.cloudflare.com/ajax/libs/mathjax/2.7.5/MathJax.js?config=TeX-AMS-MML_SVG\"></script><script type=\"text/javascript\">if (window.MathJax && window.MathJax.Hub && window.MathJax.Hub.Config) {window.MathJax.Hub.Config({SVG: {font: \"STIX-Web\"}});}</script>                <script type=\"text/javascript\">window.PlotlyConfig = {MathJaxConfig: 'local'};</script>\n",
              "        <script charset=\"utf-8\" src=\"https://cdn.plot.ly/plotly-2.35.2.min.js\"></script>                <div id=\"6fd10305-3b55-4a23-86f3-be10c2c930a9\" class=\"plotly-graph-div\" style=\"height:525px; width:100%;\"></div>            <script type=\"text/javascript\">                                    window.PLOTLYENV=window.PLOTLYENV || {};                                    if (document.getElementById(\"6fd10305-3b55-4a23-86f3-be10c2c930a9\")) {                    Plotly.newPlot(                        \"6fd10305-3b55-4a23-86f3-be10c2c930a9\",                        [{\"alignmentgroup\":\"True\",\"hovertemplate\":\"Variable=%{x}\\u003cbr\\u003eCantidad de Nulos=%{marker.color}\\u003cextra\\u003e\\u003c\\u002fextra\\u003e\",\"legendgroup\":\"\",\"marker\":{\"color\":[25195,13721,6279,6123,1036,846],\"coloraxis\":\"coloraxis\",\"pattern\":{\"shape\":\"\"}},\"name\":\"\",\"offsetgroup\":\"\",\"orientation\":\"v\",\"showlegend\":false,\"textposition\":\"auto\",\"x\":[\"ConvertedCompYearly\",\"Country\",\"WorkExp\",\"YearsCode\",\"EdLevel\",\"Employment\"],\"xaxis\":\"x\",\"y\":[25195,13721,6279,6123,1036,846],\"yaxis\":\"y\",\"type\":\"bar\"}],                        {\"template\":{\"data\":{\"histogram2dcontour\":[{\"type\":\"histogram2dcontour\",\"colorbar\":{\"outlinewidth\":0,\"ticks\":\"\"},\"colorscale\":[[0.0,\"#0d0887\"],[0.1111111111111111,\"#46039f\"],[0.2222222222222222,\"#7201a8\"],[0.3333333333333333,\"#9c179e\"],[0.4444444444444444,\"#bd3786\"],[0.5555555555555556,\"#d8576b\"],[0.6666666666666666,\"#ed7953\"],[0.7777777777777778,\"#fb9f3a\"],[0.8888888888888888,\"#fdca26\"],[1.0,\"#f0f921\"]]}],\"choropleth\":[{\"type\":\"choropleth\",\"colorbar\":{\"outlinewidth\":0,\"ticks\":\"\"}}],\"histogram2d\":[{\"type\":\"histogram2d\",\"colorbar\":{\"outlinewidth\":0,\"ticks\":\"\"},\"colorscale\":[[0.0,\"#0d0887\"],[0.1111111111111111,\"#46039f\"],[0.2222222222222222,\"#7201a8\"],[0.3333333333333333,\"#9c179e\"],[0.4444444444444444,\"#bd3786\"],[0.5555555555555556,\"#d8576b\"],[0.6666666666666666,\"#ed7953\"],[0.7777777777777778,\"#fb9f3a\"],[0.8888888888888888,\"#fdca26\"],[1.0,\"#f0f921\"]]}],\"heatmap\":[{\"type\":\"heatmap\",\"colorbar\":{\"outlinewidth\":0,\"ticks\":\"\"},\"colorscale\":[[0.0,\"#0d0887\"],[0.1111111111111111,\"#46039f\"],[0.2222222222222222,\"#7201a8\"],[0.3333333333333333,\"#9c179e\"],[0.4444444444444444,\"#bd3786\"],[0.5555555555555556,\"#d8576b\"],[0.6666666666666666,\"#ed7953\"],[0.7777777777777778,\"#fb9f3a\"],[0.8888888888888888,\"#fdca26\"],[1.0,\"#f0f921\"]]}],\"heatmapgl\":[{\"type\":\"heatmapgl\",\"colorbar\":{\"outlinewidth\":0,\"ticks\":\"\"},\"colorscale\":[[0.0,\"#0d0887\"],[0.1111111111111111,\"#46039f\"],[0.2222222222222222,\"#7201a8\"],[0.3333333333333333,\"#9c179e\"],[0.4444444444444444,\"#bd3786\"],[0.5555555555555556,\"#d8576b\"],[0.6666666666666666,\"#ed7953\"],[0.7777777777777778,\"#fb9f3a\"],[0.8888888888888888,\"#fdca26\"],[1.0,\"#f0f921\"]]}],\"contourcarpet\":[{\"type\":\"contourcarpet\",\"colorbar\":{\"outlinewidth\":0,\"ticks\":\"\"}}],\"contour\":[{\"type\":\"contour\",\"colorbar\":{\"outlinewidth\":0,\"ticks\":\"\"},\"colorscale\":[[0.0,\"#0d0887\"],[0.1111111111111111,\"#46039f\"],[0.2222222222222222,\"#7201a8\"],[0.3333333333333333,\"#9c179e\"],[0.4444444444444444,\"#bd3786\"],[0.5555555555555556,\"#d8576b\"],[0.6666666666666666,\"#ed7953\"],[0.7777777777777778,\"#fb9f3a\"],[0.8888888888888888,\"#fdca26\"],[1.0,\"#f0f921\"]]}],\"surface\":[{\"type\":\"surface\",\"colorbar\":{\"outlinewidth\":0,\"ticks\":\"\"},\"colorscale\":[[0.0,\"#0d0887\"],[0.1111111111111111,\"#46039f\"],[0.2222222222222222,\"#7201a8\"],[0.3333333333333333,\"#9c179e\"],[0.4444444444444444,\"#bd3786\"],[0.5555555555555556,\"#d8576b\"],[0.6666666666666666,\"#ed7953\"],[0.7777777777777778,\"#fb9f3a\"],[0.8888888888888888,\"#fdca26\"],[1.0,\"#f0f921\"]]}],\"mesh3d\":[{\"type\":\"mesh3d\",\"colorbar\":{\"outlinewidth\":0,\"ticks\":\"\"}}],\"scatter\":[{\"fillpattern\":{\"fillmode\":\"overlay\",\"size\":10,\"solidity\":0.2},\"type\":\"scatter\"}],\"parcoords\":[{\"type\":\"parcoords\",\"line\":{\"colorbar\":{\"outlinewidth\":0,\"ticks\":\"\"}}}],\"scatterpolargl\":[{\"type\":\"scatterpolargl\",\"marker\":{\"colorbar\":{\"outlinewidth\":0,\"ticks\":\"\"}}}],\"bar\":[{\"error_x\":{\"color\":\"#2a3f5f\"},\"error_y\":{\"color\":\"#2a3f5f\"},\"marker\":{\"line\":{\"color\":\"#E5ECF6\",\"width\":0.5},\"pattern\":{\"fillmode\":\"overlay\",\"size\":10,\"solidity\":0.2}},\"type\":\"bar\"}],\"scattergeo\":[{\"type\":\"scattergeo\",\"marker\":{\"colorbar\":{\"outlinewidth\":0,\"ticks\":\"\"}}}],\"scatterpolar\":[{\"type\":\"scatterpolar\",\"marker\":{\"colorbar\":{\"outlinewidth\":0,\"ticks\":\"\"}}}],\"histogram\":[{\"marker\":{\"pattern\":{\"fillmode\":\"overlay\",\"size\":10,\"solidity\":0.2}},\"type\":\"histogram\"}],\"scattergl\":[{\"type\":\"scattergl\",\"marker\":{\"colorbar\":{\"outlinewidth\":0,\"ticks\":\"\"}}}],\"scatter3d\":[{\"type\":\"scatter3d\",\"line\":{\"colorbar\":{\"outlinewidth\":0,\"ticks\":\"\"}},\"marker\":{\"colorbar\":{\"outlinewidth\":0,\"ticks\":\"\"}}}],\"scattermapbox\":[{\"type\":\"scattermapbox\",\"marker\":{\"colorbar\":{\"outlinewidth\":0,\"ticks\":\"\"}}}],\"scatterternary\":[{\"type\":\"scatterternary\",\"marker\":{\"colorbar\":{\"outlinewidth\":0,\"ticks\":\"\"}}}],\"scattercarpet\":[{\"type\":\"scattercarpet\",\"marker\":{\"colorbar\":{\"outlinewidth\":0,\"ticks\":\"\"}}}],\"carpet\":[{\"aaxis\":{\"endlinecolor\":\"#2a3f5f\",\"gridcolor\":\"white\",\"linecolor\":\"white\",\"minorgridcolor\":\"white\",\"startlinecolor\":\"#2a3f5f\"},\"baxis\":{\"endlinecolor\":\"#2a3f5f\",\"gridcolor\":\"white\",\"linecolor\":\"white\",\"minorgridcolor\":\"white\",\"startlinecolor\":\"#2a3f5f\"},\"type\":\"carpet\"}],\"table\":[{\"cells\":{\"fill\":{\"color\":\"#EBF0F8\"},\"line\":{\"color\":\"white\"}},\"header\":{\"fill\":{\"color\":\"#C8D4E3\"},\"line\":{\"color\":\"white\"}},\"type\":\"table\"}],\"barpolar\":[{\"marker\":{\"line\":{\"color\":\"#E5ECF6\",\"width\":0.5},\"pattern\":{\"fillmode\":\"overlay\",\"size\":10,\"solidity\":0.2}},\"type\":\"barpolar\"}],\"pie\":[{\"automargin\":true,\"type\":\"pie\"}]},\"layout\":{\"autotypenumbers\":\"strict\",\"colorway\":[\"#636efa\",\"#EF553B\",\"#00cc96\",\"#ab63fa\",\"#FFA15A\",\"#19d3f3\",\"#FF6692\",\"#B6E880\",\"#FF97FF\",\"#FECB52\"],\"font\":{\"color\":\"#2a3f5f\"},\"hovermode\":\"closest\",\"hoverlabel\":{\"align\":\"left\"},\"paper_bgcolor\":\"white\",\"plot_bgcolor\":\"#E5ECF6\",\"polar\":{\"bgcolor\":\"#E5ECF6\",\"angularaxis\":{\"gridcolor\":\"white\",\"linecolor\":\"white\",\"ticks\":\"\"},\"radialaxis\":{\"gridcolor\":\"white\",\"linecolor\":\"white\",\"ticks\":\"\"}},\"ternary\":{\"bgcolor\":\"#E5ECF6\",\"aaxis\":{\"gridcolor\":\"white\",\"linecolor\":\"white\",\"ticks\":\"\"},\"baxis\":{\"gridcolor\":\"white\",\"linecolor\":\"white\",\"ticks\":\"\"},\"caxis\":{\"gridcolor\":\"white\",\"linecolor\":\"white\",\"ticks\":\"\"}},\"coloraxis\":{\"colorbar\":{\"outlinewidth\":0,\"ticks\":\"\"}},\"colorscale\":{\"sequential\":[[0.0,\"#0d0887\"],[0.1111111111111111,\"#46039f\"],[0.2222222222222222,\"#7201a8\"],[0.3333333333333333,\"#9c179e\"],[0.4444444444444444,\"#bd3786\"],[0.5555555555555556,\"#d8576b\"],[0.6666666666666666,\"#ed7953\"],[0.7777777777777778,\"#fb9f3a\"],[0.8888888888888888,\"#fdca26\"],[1.0,\"#f0f921\"]],\"sequentialminus\":[[0.0,\"#0d0887\"],[0.1111111111111111,\"#46039f\"],[0.2222222222222222,\"#7201a8\"],[0.3333333333333333,\"#9c179e\"],[0.4444444444444444,\"#bd3786\"],[0.5555555555555556,\"#d8576b\"],[0.6666666666666666,\"#ed7953\"],[0.7777777777777778,\"#fb9f3a\"],[0.8888888888888888,\"#fdca26\"],[1.0,\"#f0f921\"]],\"diverging\":[[0,\"#8e0152\"],[0.1,\"#c51b7d\"],[0.2,\"#de77ae\"],[0.3,\"#f1b6da\"],[0.4,\"#fde0ef\"],[0.5,\"#f7f7f7\"],[0.6,\"#e6f5d0\"],[0.7,\"#b8e186\"],[0.8,\"#7fbc41\"],[0.9,\"#4d9221\"],[1,\"#276419\"]]},\"xaxis\":{\"gridcolor\":\"white\",\"linecolor\":\"white\",\"ticks\":\"\",\"title\":{\"standoff\":15},\"zerolinecolor\":\"white\",\"automargin\":true,\"zerolinewidth\":2},\"yaxis\":{\"gridcolor\":\"white\",\"linecolor\":\"white\",\"ticks\":\"\",\"title\":{\"standoff\":15},\"zerolinecolor\":\"white\",\"automargin\":true,\"zerolinewidth\":2},\"scene\":{\"xaxis\":{\"backgroundcolor\":\"#E5ECF6\",\"gridcolor\":\"white\",\"linecolor\":\"white\",\"showbackground\":true,\"ticks\":\"\",\"zerolinecolor\":\"white\",\"gridwidth\":2},\"yaxis\":{\"backgroundcolor\":\"#E5ECF6\",\"gridcolor\":\"white\",\"linecolor\":\"white\",\"showbackground\":true,\"ticks\":\"\",\"zerolinecolor\":\"white\",\"gridwidth\":2},\"zaxis\":{\"backgroundcolor\":\"#E5ECF6\",\"gridcolor\":\"white\",\"linecolor\":\"white\",\"showbackground\":true,\"ticks\":\"\",\"zerolinecolor\":\"white\",\"gridwidth\":2}},\"shapedefaults\":{\"line\":{\"color\":\"#2a3f5f\"}},\"annotationdefaults\":{\"arrowcolor\":\"#2a3f5f\",\"arrowhead\":0,\"arrowwidth\":1},\"geo\":{\"bgcolor\":\"white\",\"landcolor\":\"#E5ECF6\",\"subunitcolor\":\"white\",\"showland\":true,\"showlakes\":true,\"lakecolor\":\"white\"},\"title\":{\"x\":0.05},\"mapbox\":{\"style\":\"light\"}}},\"xaxis\":{\"anchor\":\"y\",\"domain\":[0.0,1.0],\"title\":{\"text\":\"Variable\"}},\"yaxis\":{\"anchor\":\"x\",\"domain\":[0.0,1.0],\"title\":{\"text\":\"Cantidad de Nulos\"}},\"coloraxis\":{\"colorbar\":{\"title\":{\"text\":\"Cantidad de Nulos\"}},\"colorscale\":[[0.0,\"rgb(252, 222, 156)\"],[0.16666666666666666,\"rgb(250, 164, 118)\"],[0.3333333333333333,\"rgb(240, 116, 110)\"],[0.5,\"rgb(227, 79, 111)\"],[0.6666666666666666,\"rgb(220, 57, 119)\"],[0.8333333333333334,\"rgb(185, 37, 122)\"],[1.0,\"rgb(124, 29, 111)\"]]},\"legend\":{\"tracegroupgap\":0},\"title\":{\"text\":\"🔑 Cantidad de nulos en variables clave\",\"xanchor\":\"center\",\"x\":0.5},\"barmode\":\"relative\",\"font\":{\"size\":14,\"color\":\"#fff\"},\"paper_bgcolor\":\"black\",\"plot_bgcolor\":\"black\"},                        {\"responsive\": true}                    ).then(function(){\n",
              "                            \n",
              "var gd = document.getElementById('6fd10305-3b55-4a23-86f3-be10c2c930a9');\n",
              "var x = new MutationObserver(function (mutations, observer) {{\n",
              "        var display = window.getComputedStyle(gd).display;\n",
              "        if (!display || display === 'none') {{\n",
              "            console.log([gd, 'removed!']);\n",
              "            Plotly.purge(gd);\n",
              "            observer.disconnect();\n",
              "        }}\n",
              "}});\n",
              "\n",
              "// Listen for the removal of the full notebook cells\n",
              "var notebookContainer = gd.closest('#notebook-container');\n",
              "if (notebookContainer) {{\n",
              "    x.observe(notebookContainer, {childList: true});\n",
              "}}\n",
              "\n",
              "// Listen for the clearing of the current output cell\n",
              "var outputEl = gd.closest('.output');\n",
              "if (outputEl) {{\n",
              "    x.observe(outputEl, {childList: true});\n",
              "}}\n",
              "\n",
              "                        })                };                            </script>        </div>\n",
              "</body>\n",
              "</html>"
            ]
          },
          "metadata": {}
        }
      ],
      "execution_count": 24
    },
    {
      "metadata": {
        "id": "8b5fdbbf1dc1656"
      },
      "cell_type": "markdown",
      "source": [
        " # Análisis de hipótesis\n",
        " En esta sección se abordan las preguntas planteadas al inicio del proyecto, utilizando gráficos interactivos y resúmenes numéricos para explorarlas en detalle."
      ],
      "id": "8b5fdbbf1dc1656"
    },
    {
      "metadata": {
        "id": "2a49a1d52480734a"
      },
      "cell_type": "markdown",
      "source": [
        "## 1. ¿Qué lenguajes de programación están en auge?"
      ],
      "id": "2a49a1d52480734a"
    },
    {
      "metadata": {
        "ExecuteTime": {
          "end_time": "2025-09-28T20:34:38.718153Z",
          "start_time": "2025-09-28T20:34:38.518311Z"
        },
        "id": "de6c4a9aa38d8394",
        "outputId": "d4dcf810-c37f-4c64-be06-d808af727768",
        "colab": {
          "base_uri": "https://localhost:8080/",
          "height": 1000
        }
      },
      "cell_type": "code",
      "source": [
        "# Usamos la función \"contar_valores_explodidos\" para dividir los valores\n",
        "# de la columna 'LanguageHaveWorkedWith' (separados por ';') y obtener\n",
        "# un conteo de los lenguajes más utilizados.\n",
        "lenguajes_usados_exploded = contar_valores_explodidos(dataframe=df, columna='LanguageHaveWorkedWith', separador=';')\n",
        "lenguajes_usados_exploded = lenguajes_usados_exploded.sort_values(ascending=True)\n",
        "\n",
        "fig_lenguajes_usados = px.bar(\n",
        "    lenguajes_usados_exploded,\n",
        "    title='👨‍💻 Lenguajes de programación más utilizados en 2025',\n",
        "    color='value',\n",
        "    color_continuous_scale='pinkyl',\n",
        "    orientation='h',\n",
        "    labels={'value': 'Uso', 'LanguageHaveWorkedWith': 'Lenguaje de Programación'},\n",
        ")\n",
        "fig_lenguajes_usados.update_layout(\n",
        "    font=dict(\n",
        "        size=14,\n",
        "        color='#fff',\n",
        "    ),\n",
        "    paper_bgcolor='black',\n",
        "    plot_bgcolor='black',\n",
        "    height=36 * len(lenguajes_usados_exploded),\n",
        "    title=dict(\n",
        "        xanchor='center',\n",
        "        x=0.5\n",
        "    ),\n",
        ")\n",
        "\n",
        "fig_lenguajes_usados.show()"
      ],
      "id": "de6c4a9aa38d8394",
      "outputs": [
        {
          "output_type": "display_data",
          "data": {
            "text/html": [
              "<html>\n",
              "<head><meta charset=\"utf-8\" /></head>\n",
              "<body>\n",
              "    <div>            <script src=\"https://cdnjs.cloudflare.com/ajax/libs/mathjax/2.7.5/MathJax.js?config=TeX-AMS-MML_SVG\"></script><script type=\"text/javascript\">if (window.MathJax && window.MathJax.Hub && window.MathJax.Hub.Config) {window.MathJax.Hub.Config({SVG: {font: \"STIX-Web\"}});}</script>                <script type=\"text/javascript\">window.PlotlyConfig = {MathJaxConfig: 'local'};</script>\n",
              "        <script charset=\"utf-8\" src=\"https://cdn.plot.ly/plotly-2.35.2.min.js\"></script>                <div id=\"47674a4d-7523-41a7-bd51-ecc3063c531b\" class=\"plotly-graph-div\" style=\"height:1512px; width:100%;\"></div>            <script type=\"text/javascript\">                                    window.PLOTLYENV=window.PLOTLYENV || {};                                    if (document.getElementById(\"47674a4d-7523-41a7-bd51-ecc3063c531b\")) {                    Plotly.newPlot(                        \"47674a4d-7523-41a7-bd51-ecc3063c531b\",                        [{\"alignmentgroup\":\"True\",\"hovertemplate\":\"Uso=%{marker.color}\\u003cbr\\u003eLenguaje de Programación=%{y}\\u003cextra\\u003e\\u003c\\u002fextra\\u003e\",\"legendgroup\":\"\",\"marker\":{\"color\":[144,308,337,353,367,406,431,449,465,678,721,751,796,842,847,1061,1215,1231,1333,1408,1533,1569,1718,1882,2046,2244,2906,3418,4717,5213,5990,6979,7366,7479,8845,9344,13852,15486,18388,18617,19681,20986],\"coloraxis\":\"coloraxis\",\"pattern\":{\"shape\":\"\"}},\"name\":\"\",\"offsetgroup\":\"\",\"orientation\":\"h\",\"showlegend\":false,\"textposition\":\"auto\",\"x\":[144,308,337,353,367,406,431,449,465,678,721,751,796,842,847,1061,1215,1231,1333,1408,1533,1569,1718,1882,2046,2244,2906,3418,4717,5213,5990,6979,7366,7479,8845,9344,13852,15486,18388,18617,19681,20986],\"xaxis\":\"x\",\"y\":[\"Mojo\",\"COBOL\",\"Prolog\",\"Gleam\",\"OCaml\",\"F#\",\"Ada\",\"Fortran\",\"Erlang\",\"Zig\",\"MicroPython\",\"Lisp\",\"Delphi\",\"Scala\",\"Elixir\",\"GDScript\",\"Perl\",\"MATLAB\",\"VBA\",\"Visual Basic (.Net)\",\"Groovy\",\"R\",\"Swift\",\"Dart\",\"Ruby\",\"Assembly\",\"Lua\",\"Kotlin\",\"Rust\",\"Go\",\"PHP\",\"C\",\"PowerShell\",\"C++\",\"C#\",\"Java\",\"TypeScript\",\"Bash\\u002fShell (all shells)\",\"Python\",\"SQL\",\"HTML\\u002fCSS\",\"JavaScript\"],\"yaxis\":\"y\",\"type\":\"bar\"}],                        {\"template\":{\"data\":{\"histogram2dcontour\":[{\"type\":\"histogram2dcontour\",\"colorbar\":{\"outlinewidth\":0,\"ticks\":\"\"},\"colorscale\":[[0.0,\"#0d0887\"],[0.1111111111111111,\"#46039f\"],[0.2222222222222222,\"#7201a8\"],[0.3333333333333333,\"#9c179e\"],[0.4444444444444444,\"#bd3786\"],[0.5555555555555556,\"#d8576b\"],[0.6666666666666666,\"#ed7953\"],[0.7777777777777778,\"#fb9f3a\"],[0.8888888888888888,\"#fdca26\"],[1.0,\"#f0f921\"]]}],\"choropleth\":[{\"type\":\"choropleth\",\"colorbar\":{\"outlinewidth\":0,\"ticks\":\"\"}}],\"histogram2d\":[{\"type\":\"histogram2d\",\"colorbar\":{\"outlinewidth\":0,\"ticks\":\"\"},\"colorscale\":[[0.0,\"#0d0887\"],[0.1111111111111111,\"#46039f\"],[0.2222222222222222,\"#7201a8\"],[0.3333333333333333,\"#9c179e\"],[0.4444444444444444,\"#bd3786\"],[0.5555555555555556,\"#d8576b\"],[0.6666666666666666,\"#ed7953\"],[0.7777777777777778,\"#fb9f3a\"],[0.8888888888888888,\"#fdca26\"],[1.0,\"#f0f921\"]]}],\"heatmap\":[{\"type\":\"heatmap\",\"colorbar\":{\"outlinewidth\":0,\"ticks\":\"\"},\"colorscale\":[[0.0,\"#0d0887\"],[0.1111111111111111,\"#46039f\"],[0.2222222222222222,\"#7201a8\"],[0.3333333333333333,\"#9c179e\"],[0.4444444444444444,\"#bd3786\"],[0.5555555555555556,\"#d8576b\"],[0.6666666666666666,\"#ed7953\"],[0.7777777777777778,\"#fb9f3a\"],[0.8888888888888888,\"#fdca26\"],[1.0,\"#f0f921\"]]}],\"heatmapgl\":[{\"type\":\"heatmapgl\",\"colorbar\":{\"outlinewidth\":0,\"ticks\":\"\"},\"colorscale\":[[0.0,\"#0d0887\"],[0.1111111111111111,\"#46039f\"],[0.2222222222222222,\"#7201a8\"],[0.3333333333333333,\"#9c179e\"],[0.4444444444444444,\"#bd3786\"],[0.5555555555555556,\"#d8576b\"],[0.6666666666666666,\"#ed7953\"],[0.7777777777777778,\"#fb9f3a\"],[0.8888888888888888,\"#fdca26\"],[1.0,\"#f0f921\"]]}],\"contourcarpet\":[{\"type\":\"contourcarpet\",\"colorbar\":{\"outlinewidth\":0,\"ticks\":\"\"}}],\"contour\":[{\"type\":\"contour\",\"colorbar\":{\"outlinewidth\":0,\"ticks\":\"\"},\"colorscale\":[[0.0,\"#0d0887\"],[0.1111111111111111,\"#46039f\"],[0.2222222222222222,\"#7201a8\"],[0.3333333333333333,\"#9c179e\"],[0.4444444444444444,\"#bd3786\"],[0.5555555555555556,\"#d8576b\"],[0.6666666666666666,\"#ed7953\"],[0.7777777777777778,\"#fb9f3a\"],[0.8888888888888888,\"#fdca26\"],[1.0,\"#f0f921\"]]}],\"surface\":[{\"type\":\"surface\",\"colorbar\":{\"outlinewidth\":0,\"ticks\":\"\"},\"colorscale\":[[0.0,\"#0d0887\"],[0.1111111111111111,\"#46039f\"],[0.2222222222222222,\"#7201a8\"],[0.3333333333333333,\"#9c179e\"],[0.4444444444444444,\"#bd3786\"],[0.5555555555555556,\"#d8576b\"],[0.6666666666666666,\"#ed7953\"],[0.7777777777777778,\"#fb9f3a\"],[0.8888888888888888,\"#fdca26\"],[1.0,\"#f0f921\"]]}],\"mesh3d\":[{\"type\":\"mesh3d\",\"colorbar\":{\"outlinewidth\":0,\"ticks\":\"\"}}],\"scatter\":[{\"fillpattern\":{\"fillmode\":\"overlay\",\"size\":10,\"solidity\":0.2},\"type\":\"scatter\"}],\"parcoords\":[{\"type\":\"parcoords\",\"line\":{\"colorbar\":{\"outlinewidth\":0,\"ticks\":\"\"}}}],\"scatterpolargl\":[{\"type\":\"scatterpolargl\",\"marker\":{\"colorbar\":{\"outlinewidth\":0,\"ticks\":\"\"}}}],\"bar\":[{\"error_x\":{\"color\":\"#2a3f5f\"},\"error_y\":{\"color\":\"#2a3f5f\"},\"marker\":{\"line\":{\"color\":\"#E5ECF6\",\"width\":0.5},\"pattern\":{\"fillmode\":\"overlay\",\"size\":10,\"solidity\":0.2}},\"type\":\"bar\"}],\"scattergeo\":[{\"type\":\"scattergeo\",\"marker\":{\"colorbar\":{\"outlinewidth\":0,\"ticks\":\"\"}}}],\"scatterpolar\":[{\"type\":\"scatterpolar\",\"marker\":{\"colorbar\":{\"outlinewidth\":0,\"ticks\":\"\"}}}],\"histogram\":[{\"marker\":{\"pattern\":{\"fillmode\":\"overlay\",\"size\":10,\"solidity\":0.2}},\"type\":\"histogram\"}],\"scattergl\":[{\"type\":\"scattergl\",\"marker\":{\"colorbar\":{\"outlinewidth\":0,\"ticks\":\"\"}}}],\"scatter3d\":[{\"type\":\"scatter3d\",\"line\":{\"colorbar\":{\"outlinewidth\":0,\"ticks\":\"\"}},\"marker\":{\"colorbar\":{\"outlinewidth\":0,\"ticks\":\"\"}}}],\"scattermapbox\":[{\"type\":\"scattermapbox\",\"marker\":{\"colorbar\":{\"outlinewidth\":0,\"ticks\":\"\"}}}],\"scatterternary\":[{\"type\":\"scatterternary\",\"marker\":{\"colorbar\":{\"outlinewidth\":0,\"ticks\":\"\"}}}],\"scattercarpet\":[{\"type\":\"scattercarpet\",\"marker\":{\"colorbar\":{\"outlinewidth\":0,\"ticks\":\"\"}}}],\"carpet\":[{\"aaxis\":{\"endlinecolor\":\"#2a3f5f\",\"gridcolor\":\"white\",\"linecolor\":\"white\",\"minorgridcolor\":\"white\",\"startlinecolor\":\"#2a3f5f\"},\"baxis\":{\"endlinecolor\":\"#2a3f5f\",\"gridcolor\":\"white\",\"linecolor\":\"white\",\"minorgridcolor\":\"white\",\"startlinecolor\":\"#2a3f5f\"},\"type\":\"carpet\"}],\"table\":[{\"cells\":{\"fill\":{\"color\":\"#EBF0F8\"},\"line\":{\"color\":\"white\"}},\"header\":{\"fill\":{\"color\":\"#C8D4E3\"},\"line\":{\"color\":\"white\"}},\"type\":\"table\"}],\"barpolar\":[{\"marker\":{\"line\":{\"color\":\"#E5ECF6\",\"width\":0.5},\"pattern\":{\"fillmode\":\"overlay\",\"size\":10,\"solidity\":0.2}},\"type\":\"barpolar\"}],\"pie\":[{\"automargin\":true,\"type\":\"pie\"}]},\"layout\":{\"autotypenumbers\":\"strict\",\"colorway\":[\"#636efa\",\"#EF553B\",\"#00cc96\",\"#ab63fa\",\"#FFA15A\",\"#19d3f3\",\"#FF6692\",\"#B6E880\",\"#FF97FF\",\"#FECB52\"],\"font\":{\"color\":\"#2a3f5f\"},\"hovermode\":\"closest\",\"hoverlabel\":{\"align\":\"left\"},\"paper_bgcolor\":\"white\",\"plot_bgcolor\":\"#E5ECF6\",\"polar\":{\"bgcolor\":\"#E5ECF6\",\"angularaxis\":{\"gridcolor\":\"white\",\"linecolor\":\"white\",\"ticks\":\"\"},\"radialaxis\":{\"gridcolor\":\"white\",\"linecolor\":\"white\",\"ticks\":\"\"}},\"ternary\":{\"bgcolor\":\"#E5ECF6\",\"aaxis\":{\"gridcolor\":\"white\",\"linecolor\":\"white\",\"ticks\":\"\"},\"baxis\":{\"gridcolor\":\"white\",\"linecolor\":\"white\",\"ticks\":\"\"},\"caxis\":{\"gridcolor\":\"white\",\"linecolor\":\"white\",\"ticks\":\"\"}},\"coloraxis\":{\"colorbar\":{\"outlinewidth\":0,\"ticks\":\"\"}},\"colorscale\":{\"sequential\":[[0.0,\"#0d0887\"],[0.1111111111111111,\"#46039f\"],[0.2222222222222222,\"#7201a8\"],[0.3333333333333333,\"#9c179e\"],[0.4444444444444444,\"#bd3786\"],[0.5555555555555556,\"#d8576b\"],[0.6666666666666666,\"#ed7953\"],[0.7777777777777778,\"#fb9f3a\"],[0.8888888888888888,\"#fdca26\"],[1.0,\"#f0f921\"]],\"sequentialminus\":[[0.0,\"#0d0887\"],[0.1111111111111111,\"#46039f\"],[0.2222222222222222,\"#7201a8\"],[0.3333333333333333,\"#9c179e\"],[0.4444444444444444,\"#bd3786\"],[0.5555555555555556,\"#d8576b\"],[0.6666666666666666,\"#ed7953\"],[0.7777777777777778,\"#fb9f3a\"],[0.8888888888888888,\"#fdca26\"],[1.0,\"#f0f921\"]],\"diverging\":[[0,\"#8e0152\"],[0.1,\"#c51b7d\"],[0.2,\"#de77ae\"],[0.3,\"#f1b6da\"],[0.4,\"#fde0ef\"],[0.5,\"#f7f7f7\"],[0.6,\"#e6f5d0\"],[0.7,\"#b8e186\"],[0.8,\"#7fbc41\"],[0.9,\"#4d9221\"],[1,\"#276419\"]]},\"xaxis\":{\"gridcolor\":\"white\",\"linecolor\":\"white\",\"ticks\":\"\",\"title\":{\"standoff\":15},\"zerolinecolor\":\"white\",\"automargin\":true,\"zerolinewidth\":2},\"yaxis\":{\"gridcolor\":\"white\",\"linecolor\":\"white\",\"ticks\":\"\",\"title\":{\"standoff\":15},\"zerolinecolor\":\"white\",\"automargin\":true,\"zerolinewidth\":2},\"scene\":{\"xaxis\":{\"backgroundcolor\":\"#E5ECF6\",\"gridcolor\":\"white\",\"linecolor\":\"white\",\"showbackground\":true,\"ticks\":\"\",\"zerolinecolor\":\"white\",\"gridwidth\":2},\"yaxis\":{\"backgroundcolor\":\"#E5ECF6\",\"gridcolor\":\"white\",\"linecolor\":\"white\",\"showbackground\":true,\"ticks\":\"\",\"zerolinecolor\":\"white\",\"gridwidth\":2},\"zaxis\":{\"backgroundcolor\":\"#E5ECF6\",\"gridcolor\":\"white\",\"linecolor\":\"white\",\"showbackground\":true,\"ticks\":\"\",\"zerolinecolor\":\"white\",\"gridwidth\":2}},\"shapedefaults\":{\"line\":{\"color\":\"#2a3f5f\"}},\"annotationdefaults\":{\"arrowcolor\":\"#2a3f5f\",\"arrowhead\":0,\"arrowwidth\":1},\"geo\":{\"bgcolor\":\"white\",\"landcolor\":\"#E5ECF6\",\"subunitcolor\":\"white\",\"showland\":true,\"showlakes\":true,\"lakecolor\":\"white\"},\"title\":{\"x\":0.05},\"mapbox\":{\"style\":\"light\"}}},\"xaxis\":{\"anchor\":\"y\",\"domain\":[0.0,1.0],\"title\":{\"text\":\"Uso\"}},\"yaxis\":{\"anchor\":\"x\",\"domain\":[0.0,1.0],\"title\":{\"text\":\"Lenguaje de Programación\"}},\"coloraxis\":{\"colorbar\":{\"title\":{\"text\":\"Uso\"}},\"colorscale\":[[0.0,\"rgb(254, 246, 181)\"],[0.16666666666666666,\"rgb(255, 221, 154)\"],[0.3333333333333333,\"rgb(255, 194, 133)\"],[0.5,\"rgb(255, 166, 121)\"],[0.6666666666666666,\"rgb(250, 138, 118)\"],[0.8333333333333334,\"rgb(241, 109, 122)\"],[1.0,\"rgb(225, 83, 131)\"]]},\"legend\":{\"tracegroupgap\":0},\"title\":{\"text\":\"👨‍💻 Lenguajes de programación más utilizados en 2025\",\"xanchor\":\"center\",\"x\":0.5},\"barmode\":\"relative\",\"font\":{\"size\":14,\"color\":\"#fff\"},\"paper_bgcolor\":\"black\",\"plot_bgcolor\":\"black\",\"height\":1512},                        {\"responsive\": true}                    ).then(function(){\n",
              "                            \n",
              "var gd = document.getElementById('47674a4d-7523-41a7-bd51-ecc3063c531b');\n",
              "var x = new MutationObserver(function (mutations, observer) {{\n",
              "        var display = window.getComputedStyle(gd).display;\n",
              "        if (!display || display === 'none') {{\n",
              "            console.log([gd, 'removed!']);\n",
              "            Plotly.purge(gd);\n",
              "            observer.disconnect();\n",
              "        }}\n",
              "}});\n",
              "\n",
              "// Listen for the removal of the full notebook cells\n",
              "var notebookContainer = gd.closest('#notebook-container');\n",
              "if (notebookContainer) {{\n",
              "    x.observe(notebookContainer, {childList: true});\n",
              "}}\n",
              "\n",
              "// Listen for the clearing of the current output cell\n",
              "var outputEl = gd.closest('.output');\n",
              "if (outputEl) {{\n",
              "    x.observe(outputEl, {childList: true});\n",
              "}}\n",
              "\n",
              "                        })                };                            </script>        </div>\n",
              "</body>\n",
              "</html>"
            ]
          },
          "metadata": {}
        }
      ],
      "execution_count": 25
    },
    {
      "metadata": {
        "ExecuteTime": {
          "end_time": "2025-09-28T20:34:38.819353Z",
          "start_time": "2025-09-28T20:34:38.733625Z"
        },
        "id": "1fd0c2272715065b",
        "outputId": "82b4667c-362c-44dd-a38a-ac2006a5d143",
        "colab": {
          "base_uri": "https://localhost:8080/",
          "height": 665
        }
      },
      "cell_type": "code",
      "source": [
        "# Contamos cuántos desarrolladores indicaron que desean trabajar con cada lenguaje.\n",
        "lenguajes_deseados = contar_valores_explodidos(\n",
        "    dataframe=df,\n",
        "    columna='LanguageWantToWorkWith',\n",
        "    separador=';'\n",
        ")\n",
        "\n",
        "# Calculamos el número total de encuestados (denominador común para normalizar).\n",
        "n_encuestados = len(df)\n",
        "\n",
        "# Convertimos los conteos a porcentajes sobre el total de encuestados.\n",
        "lenguajes_deseados_pct = (lenguajes_deseados / n_encuestados) * 100\n",
        "lenguajes_usados_pct = (lenguajes_usados_exploded / n_encuestados) * 100\n",
        "\n",
        "# Calculamos el \"auge\" como la diferencia entre deseo y uso (% de encuestados).\n",
        "#  > 0  → más deseado que usado (auge)\n",
        "#  = 0  → estable\n",
        "#  < 0  → más usado que deseado (retroceso)\n",
        "lenguajes_auge = lenguajes_deseados_pct - lenguajes_usados_pct\n",
        "lenguajes_auge = lenguajes_auge[lenguajes_auge > 0]\n",
        "lenguajes_auge = lenguajes_auge.sort_values(ascending=True)\n",
        "\n",
        "\n",
        "# Graficamos\n",
        "fig_lenguajes_auge = px.bar(\n",
        "    lenguajes_auge,\n",
        "    title='📈 Lenguajes de Programación en Auge en 2025',\n",
        "    color='value',\n",
        "    color_continuous_scale='tempo',\n",
        "    orientation='h',\n",
        "    labels={'index': 'Lenguajes de Programación', 'value': '% Auge'}\n",
        ")\n",
        "fig_lenguajes_auge.update_layout(\n",
        "    font=dict(\n",
        "        size=14,\n",
        "        color='#fff',\n",
        "    ),\n",
        "    paper_bgcolor='black',\n",
        "    plot_bgcolor='black',\n",
        "    height=36 * len(lenguajes_auge),\n",
        "    title=dict(\n",
        "        xanchor='center',\n",
        "        x=0.5\n",
        "    ),\n",
        ")\n"
      ],
      "id": "1fd0c2272715065b",
      "outputs": [
        {
          "output_type": "display_data",
          "data": {
            "text/html": [
              "<html>\n",
              "<head><meta charset=\"utf-8\" /></head>\n",
              "<body>\n",
              "    <div>            <script src=\"https://cdnjs.cloudflare.com/ajax/libs/mathjax/2.7.5/MathJax.js?config=TeX-AMS-MML_SVG\"></script><script type=\"text/javascript\">if (window.MathJax && window.MathJax.Hub && window.MathJax.Hub.Config) {window.MathJax.Hub.Config({SVG: {font: \"STIX-Web\"}});}</script>                <script type=\"text/javascript\">window.PlotlyConfig = {MathJaxConfig: 'local'};</script>\n",
              "        <script charset=\"utf-8\" src=\"https://cdn.plot.ly/plotly-2.35.2.min.js\"></script>                <div id=\"90529c25-cc01-4ff2-9356-918bf9a401ff\" class=\"plotly-graph-div\" style=\"height:648px; width:100%;\"></div>            <script type=\"text/javascript\">                                    window.PLOTLYENV=window.PLOTLYENV || {};                                    if (document.getElementById(\"90529c25-cc01-4ff2-9356-918bf9a401ff\")) {                    Plotly.newPlot(                        \"90529c25-cc01-4ff2-9356-918bf9a401ff\",                        [{\"alignmentgroup\":\"True\",\"hovertemplate\":\"% Auge=%{marker.color}\\u003cbr\\u003eLenguajes de Programación=%{y}\\u003cextra\\u003e\\u003c\\u002fextra\\u003e\",\"legendgroup\":\"\",\"marker\":{\"color\":[0.014249944018077443,0.15471367791055102,0.162856503063738,0.16489220935203486,0.19339209738818885,0.22189198542434307,0.637176068236875,0.730818557498524,0.7796755084176452,0.8672108788144046,0.9974960812653949,1.0097103189951753,1.0219245567249555,1.256030779879079,1.9725993933595256,3.5258432913299274,4.466339596523014,9.227856604849054],\"coloraxis\":\"coloraxis\",\"pattern\":{\"shape\":\"\"}},\"name\":\"\",\"offsetgroup\":\"\",\"orientation\":\"h\",\"showlegend\":false,\"textposition\":\"auto\",\"x\":[0.014249944018077443,0.15471367791055102,0.162856503063738,0.16489220935203486,0.19339209738818885,0.22189198542434307,0.637176068236875,0.730818557498524,0.7796755084176452,0.8672108788144046,0.9974960812653949,1.0097103189951753,1.0219245567249555,1.256030779879079,1.9725993933595256,3.5258432913299274,4.466339596523014,9.227856604849054],\"xaxis\":\"x\",\"y\":[\"GDScript\",\"Prolog\",\"Ada\",\"Scala\",\"COBOL\",\"MicroPython\",\"Swift\",\"Kotlin\",\"Lisp\",\"Mojo\",\"Erlang\",\"OCaml\",\"F#\",\"Gleam\",\"Elixir\",\"Zig\",\"Go\",\"Rust\"],\"yaxis\":\"y\",\"type\":\"bar\"}],                        {\"template\":{\"data\":{\"histogram2dcontour\":[{\"type\":\"histogram2dcontour\",\"colorbar\":{\"outlinewidth\":0,\"ticks\":\"\"},\"colorscale\":[[0.0,\"#0d0887\"],[0.1111111111111111,\"#46039f\"],[0.2222222222222222,\"#7201a8\"],[0.3333333333333333,\"#9c179e\"],[0.4444444444444444,\"#bd3786\"],[0.5555555555555556,\"#d8576b\"],[0.6666666666666666,\"#ed7953\"],[0.7777777777777778,\"#fb9f3a\"],[0.8888888888888888,\"#fdca26\"],[1.0,\"#f0f921\"]]}],\"choropleth\":[{\"type\":\"choropleth\",\"colorbar\":{\"outlinewidth\":0,\"ticks\":\"\"}}],\"histogram2d\":[{\"type\":\"histogram2d\",\"colorbar\":{\"outlinewidth\":0,\"ticks\":\"\"},\"colorscale\":[[0.0,\"#0d0887\"],[0.1111111111111111,\"#46039f\"],[0.2222222222222222,\"#7201a8\"],[0.3333333333333333,\"#9c179e\"],[0.4444444444444444,\"#bd3786\"],[0.5555555555555556,\"#d8576b\"],[0.6666666666666666,\"#ed7953\"],[0.7777777777777778,\"#fb9f3a\"],[0.8888888888888888,\"#fdca26\"],[1.0,\"#f0f921\"]]}],\"heatmap\":[{\"type\":\"heatmap\",\"colorbar\":{\"outlinewidth\":0,\"ticks\":\"\"},\"colorscale\":[[0.0,\"#0d0887\"],[0.1111111111111111,\"#46039f\"],[0.2222222222222222,\"#7201a8\"],[0.3333333333333333,\"#9c179e\"],[0.4444444444444444,\"#bd3786\"],[0.5555555555555556,\"#d8576b\"],[0.6666666666666666,\"#ed7953\"],[0.7777777777777778,\"#fb9f3a\"],[0.8888888888888888,\"#fdca26\"],[1.0,\"#f0f921\"]]}],\"heatmapgl\":[{\"type\":\"heatmapgl\",\"colorbar\":{\"outlinewidth\":0,\"ticks\":\"\"},\"colorscale\":[[0.0,\"#0d0887\"],[0.1111111111111111,\"#46039f\"],[0.2222222222222222,\"#7201a8\"],[0.3333333333333333,\"#9c179e\"],[0.4444444444444444,\"#bd3786\"],[0.5555555555555556,\"#d8576b\"],[0.6666666666666666,\"#ed7953\"],[0.7777777777777778,\"#fb9f3a\"],[0.8888888888888888,\"#fdca26\"],[1.0,\"#f0f921\"]]}],\"contourcarpet\":[{\"type\":\"contourcarpet\",\"colorbar\":{\"outlinewidth\":0,\"ticks\":\"\"}}],\"contour\":[{\"type\":\"contour\",\"colorbar\":{\"outlinewidth\":0,\"ticks\":\"\"},\"colorscale\":[[0.0,\"#0d0887\"],[0.1111111111111111,\"#46039f\"],[0.2222222222222222,\"#7201a8\"],[0.3333333333333333,\"#9c179e\"],[0.4444444444444444,\"#bd3786\"],[0.5555555555555556,\"#d8576b\"],[0.6666666666666666,\"#ed7953\"],[0.7777777777777778,\"#fb9f3a\"],[0.8888888888888888,\"#fdca26\"],[1.0,\"#f0f921\"]]}],\"surface\":[{\"type\":\"surface\",\"colorbar\":{\"outlinewidth\":0,\"ticks\":\"\"},\"colorscale\":[[0.0,\"#0d0887\"],[0.1111111111111111,\"#46039f\"],[0.2222222222222222,\"#7201a8\"],[0.3333333333333333,\"#9c179e\"],[0.4444444444444444,\"#bd3786\"],[0.5555555555555556,\"#d8576b\"],[0.6666666666666666,\"#ed7953\"],[0.7777777777777778,\"#fb9f3a\"],[0.8888888888888888,\"#fdca26\"],[1.0,\"#f0f921\"]]}],\"mesh3d\":[{\"type\":\"mesh3d\",\"colorbar\":{\"outlinewidth\":0,\"ticks\":\"\"}}],\"scatter\":[{\"fillpattern\":{\"fillmode\":\"overlay\",\"size\":10,\"solidity\":0.2},\"type\":\"scatter\"}],\"parcoords\":[{\"type\":\"parcoords\",\"line\":{\"colorbar\":{\"outlinewidth\":0,\"ticks\":\"\"}}}],\"scatterpolargl\":[{\"type\":\"scatterpolargl\",\"marker\":{\"colorbar\":{\"outlinewidth\":0,\"ticks\":\"\"}}}],\"bar\":[{\"error_x\":{\"color\":\"#2a3f5f\"},\"error_y\":{\"color\":\"#2a3f5f\"},\"marker\":{\"line\":{\"color\":\"#E5ECF6\",\"width\":0.5},\"pattern\":{\"fillmode\":\"overlay\",\"size\":10,\"solidity\":0.2}},\"type\":\"bar\"}],\"scattergeo\":[{\"type\":\"scattergeo\",\"marker\":{\"colorbar\":{\"outlinewidth\":0,\"ticks\":\"\"}}}],\"scatterpolar\":[{\"type\":\"scatterpolar\",\"marker\":{\"colorbar\":{\"outlinewidth\":0,\"ticks\":\"\"}}}],\"histogram\":[{\"marker\":{\"pattern\":{\"fillmode\":\"overlay\",\"size\":10,\"solidity\":0.2}},\"type\":\"histogram\"}],\"scattergl\":[{\"type\":\"scattergl\",\"marker\":{\"colorbar\":{\"outlinewidth\":0,\"ticks\":\"\"}}}],\"scatter3d\":[{\"type\":\"scatter3d\",\"line\":{\"colorbar\":{\"outlinewidth\":0,\"ticks\":\"\"}},\"marker\":{\"colorbar\":{\"outlinewidth\":0,\"ticks\":\"\"}}}],\"scattermapbox\":[{\"type\":\"scattermapbox\",\"marker\":{\"colorbar\":{\"outlinewidth\":0,\"ticks\":\"\"}}}],\"scatterternary\":[{\"type\":\"scatterternary\",\"marker\":{\"colorbar\":{\"outlinewidth\":0,\"ticks\":\"\"}}}],\"scattercarpet\":[{\"type\":\"scattercarpet\",\"marker\":{\"colorbar\":{\"outlinewidth\":0,\"ticks\":\"\"}}}],\"carpet\":[{\"aaxis\":{\"endlinecolor\":\"#2a3f5f\",\"gridcolor\":\"white\",\"linecolor\":\"white\",\"minorgridcolor\":\"white\",\"startlinecolor\":\"#2a3f5f\"},\"baxis\":{\"endlinecolor\":\"#2a3f5f\",\"gridcolor\":\"white\",\"linecolor\":\"white\",\"minorgridcolor\":\"white\",\"startlinecolor\":\"#2a3f5f\"},\"type\":\"carpet\"}],\"table\":[{\"cells\":{\"fill\":{\"color\":\"#EBF0F8\"},\"line\":{\"color\":\"white\"}},\"header\":{\"fill\":{\"color\":\"#C8D4E3\"},\"line\":{\"color\":\"white\"}},\"type\":\"table\"}],\"barpolar\":[{\"marker\":{\"line\":{\"color\":\"#E5ECF6\",\"width\":0.5},\"pattern\":{\"fillmode\":\"overlay\",\"size\":10,\"solidity\":0.2}},\"type\":\"barpolar\"}],\"pie\":[{\"automargin\":true,\"type\":\"pie\"}]},\"layout\":{\"autotypenumbers\":\"strict\",\"colorway\":[\"#636efa\",\"#EF553B\",\"#00cc96\",\"#ab63fa\",\"#FFA15A\",\"#19d3f3\",\"#FF6692\",\"#B6E880\",\"#FF97FF\",\"#FECB52\"],\"font\":{\"color\":\"#2a3f5f\"},\"hovermode\":\"closest\",\"hoverlabel\":{\"align\":\"left\"},\"paper_bgcolor\":\"white\",\"plot_bgcolor\":\"#E5ECF6\",\"polar\":{\"bgcolor\":\"#E5ECF6\",\"angularaxis\":{\"gridcolor\":\"white\",\"linecolor\":\"white\",\"ticks\":\"\"},\"radialaxis\":{\"gridcolor\":\"white\",\"linecolor\":\"white\",\"ticks\":\"\"}},\"ternary\":{\"bgcolor\":\"#E5ECF6\",\"aaxis\":{\"gridcolor\":\"white\",\"linecolor\":\"white\",\"ticks\":\"\"},\"baxis\":{\"gridcolor\":\"white\",\"linecolor\":\"white\",\"ticks\":\"\"},\"caxis\":{\"gridcolor\":\"white\",\"linecolor\":\"white\",\"ticks\":\"\"}},\"coloraxis\":{\"colorbar\":{\"outlinewidth\":0,\"ticks\":\"\"}},\"colorscale\":{\"sequential\":[[0.0,\"#0d0887\"],[0.1111111111111111,\"#46039f\"],[0.2222222222222222,\"#7201a8\"],[0.3333333333333333,\"#9c179e\"],[0.4444444444444444,\"#bd3786\"],[0.5555555555555556,\"#d8576b\"],[0.6666666666666666,\"#ed7953\"],[0.7777777777777778,\"#fb9f3a\"],[0.8888888888888888,\"#fdca26\"],[1.0,\"#f0f921\"]],\"sequentialminus\":[[0.0,\"#0d0887\"],[0.1111111111111111,\"#46039f\"],[0.2222222222222222,\"#7201a8\"],[0.3333333333333333,\"#9c179e\"],[0.4444444444444444,\"#bd3786\"],[0.5555555555555556,\"#d8576b\"],[0.6666666666666666,\"#ed7953\"],[0.7777777777777778,\"#fb9f3a\"],[0.8888888888888888,\"#fdca26\"],[1.0,\"#f0f921\"]],\"diverging\":[[0,\"#8e0152\"],[0.1,\"#c51b7d\"],[0.2,\"#de77ae\"],[0.3,\"#f1b6da\"],[0.4,\"#fde0ef\"],[0.5,\"#f7f7f7\"],[0.6,\"#e6f5d0\"],[0.7,\"#b8e186\"],[0.8,\"#7fbc41\"],[0.9,\"#4d9221\"],[1,\"#276419\"]]},\"xaxis\":{\"gridcolor\":\"white\",\"linecolor\":\"white\",\"ticks\":\"\",\"title\":{\"standoff\":15},\"zerolinecolor\":\"white\",\"automargin\":true,\"zerolinewidth\":2},\"yaxis\":{\"gridcolor\":\"white\",\"linecolor\":\"white\",\"ticks\":\"\",\"title\":{\"standoff\":15},\"zerolinecolor\":\"white\",\"automargin\":true,\"zerolinewidth\":2},\"scene\":{\"xaxis\":{\"backgroundcolor\":\"#E5ECF6\",\"gridcolor\":\"white\",\"linecolor\":\"white\",\"showbackground\":true,\"ticks\":\"\",\"zerolinecolor\":\"white\",\"gridwidth\":2},\"yaxis\":{\"backgroundcolor\":\"#E5ECF6\",\"gridcolor\":\"white\",\"linecolor\":\"white\",\"showbackground\":true,\"ticks\":\"\",\"zerolinecolor\":\"white\",\"gridwidth\":2},\"zaxis\":{\"backgroundcolor\":\"#E5ECF6\",\"gridcolor\":\"white\",\"linecolor\":\"white\",\"showbackground\":true,\"ticks\":\"\",\"zerolinecolor\":\"white\",\"gridwidth\":2}},\"shapedefaults\":{\"line\":{\"color\":\"#2a3f5f\"}},\"annotationdefaults\":{\"arrowcolor\":\"#2a3f5f\",\"arrowhead\":0,\"arrowwidth\":1},\"geo\":{\"bgcolor\":\"white\",\"landcolor\":\"#E5ECF6\",\"subunitcolor\":\"white\",\"showland\":true,\"showlakes\":true,\"lakecolor\":\"white\"},\"title\":{\"x\":0.05},\"mapbox\":{\"style\":\"light\"}}},\"xaxis\":{\"anchor\":\"y\",\"domain\":[0.0,1.0],\"title\":{\"text\":\"% Auge\"}},\"yaxis\":{\"anchor\":\"x\",\"domain\":[0.0,1.0],\"title\":{\"text\":\"Lenguajes de Programación\"}},\"coloraxis\":{\"colorbar\":{\"title\":{\"text\":\"% Auge\"}},\"colorscale\":[[0.0,\"rgb(254, 245, 244)\"],[0.09090909090909091,\"rgb(222, 224, 210)\"],[0.18181818181818182,\"rgb(189, 206, 181)\"],[0.2727272727272727,\"rgb(153, 189, 156)\"],[0.36363636363636365,\"rgb(110, 173, 138)\"],[0.45454545454545453,\"rgb(65, 157, 129)\"],[0.5454545454545454,\"rgb(25, 137, 125)\"],[0.6363636363636364,\"rgb(18, 116, 117)\"],[0.7272727272727273,\"rgb(25, 94, 106)\"],[0.8181818181818182,\"rgb(28, 72, 93)\"],[0.9090909090909091,\"rgb(25, 51, 80)\"],[1.0,\"rgb(20, 29, 67)\"]]},\"legend\":{\"tracegroupgap\":0},\"title\":{\"text\":\"📈 Lenguajes de Programación en Auge en 2025\",\"xanchor\":\"center\",\"x\":0.5},\"barmode\":\"relative\",\"font\":{\"size\":14,\"color\":\"#fff\"},\"paper_bgcolor\":\"black\",\"plot_bgcolor\":\"black\",\"height\":648},                        {\"responsive\": true}                    ).then(function(){\n",
              "                            \n",
              "var gd = document.getElementById('90529c25-cc01-4ff2-9356-918bf9a401ff');\n",
              "var x = new MutationObserver(function (mutations, observer) {{\n",
              "        var display = window.getComputedStyle(gd).display;\n",
              "        if (!display || display === 'none') {{\n",
              "            console.log([gd, 'removed!']);\n",
              "            Plotly.purge(gd);\n",
              "            observer.disconnect();\n",
              "        }}\n",
              "}});\n",
              "\n",
              "// Listen for the removal of the full notebook cells\n",
              "var notebookContainer = gd.closest('#notebook-container');\n",
              "if (notebookContainer) {{\n",
              "    x.observe(notebookContainer, {childList: true});\n",
              "}}\n",
              "\n",
              "// Listen for the clearing of the current output cell\n",
              "var outputEl = gd.closest('.output');\n",
              "if (outputEl) {{\n",
              "    x.observe(outputEl, {childList: true});\n",
              "}}\n",
              "\n",
              "                        })                };                            </script>        </div>\n",
              "</body>\n",
              "</html>"
            ]
          },
          "metadata": {}
        }
      ],
      "execution_count": 26
    },
    {
      "metadata": {
        "id": "5a2a1735206a327e"
      },
      "cell_type": "markdown",
      "source": [
        "## 2. ¿Qué tecnologías muestran menor interés futuro?"
      ],
      "id": "5a2a1735206a327e"
    },
    {
      "metadata": {
        "ExecuteTime": {
          "end_time": "2025-09-28T20:34:38.883423Z",
          "start_time": "2025-09-28T20:34:38.835974Z"
        },
        "id": "f411bd01c2e0749c",
        "outputId": "f5e93d0f-c9a3-41ea-d10b-0798b8a7f22f",
        "colab": {
          "base_uri": "https://localhost:8080/",
          "height": 881
        }
      },
      "cell_type": "code",
      "source": [
        "# Calculamos la diferencia entre el porcentaje de deseo y el porcentaje de uso.\n",
        "# Un valor negativo indica que la tecnología es utilizada por más desarrolladores\n",
        "# de los que manifiestan querer usarla en el futuro → \"más usada que deseada\".\n",
        "lenguajes_retroceso = lenguajes_deseados_pct - lenguajes_usados_pct\n",
        "lenguajes_retroceso = lenguajes_retroceso[lenguajes_retroceso < 0].sort_values(ascending=False)\n",
        "\n",
        "# Graficamos estas tecnologías ordenadas, para visualizar aquellas que muestran\n",
        "# menor interés futuro en comparación con su nivel de uso actual.\n",
        "fig_lenguajes_retroceso = px.bar(\n",
        "    lenguajes_retroceso,\n",
        "    title=\"📉 Tecnologías que pierden interés en 2025\",\n",
        "    color='value',\n",
        "    color_continuous_scale='pinkyl_r',\n",
        "    orientation='h',\n",
        "    labels={'index': 'Lenguajes de Programación', 'value': '% Retroceso'}\n",
        ")\n",
        "fig_lenguajes_retroceso.update_layout(\n",
        "    font=dict(size=14, color=\"#fff\"),\n",
        "    paper_bgcolor=\"black\",\n",
        "    plot_bgcolor=\"black\",\n",
        "    height=36 * len(lenguajes_retroceso),\n",
        "    title=dict(xanchor=\"center\", x=0.5),\n",
        ")\n",
        "\n",
        "fig_lenguajes_retroceso.show()"
      ],
      "id": "f411bd01c2e0749c",
      "outputs": [
        {
          "output_type": "display_data",
          "data": {
            "text/html": [
              "<html>\n",
              "<head><meta charset=\"utf-8\" /></head>\n",
              "<body>\n",
              "    <div>            <script src=\"https://cdnjs.cloudflare.com/ajax/libs/mathjax/2.7.5/MathJax.js?config=TeX-AMS-MML_SVG\"></script><script type=\"text/javascript\">if (window.MathJax && window.MathJax.Hub && window.MathJax.Hub.Config) {window.MathJax.Hub.Config({SVG: {font: \"STIX-Web\"}});}</script>                <script type=\"text/javascript\">window.PlotlyConfig = {MathJaxConfig: 'local'};</script>\n",
              "        <script charset=\"utf-8\" src=\"https://cdn.plot.ly/plotly-2.35.2.min.js\"></script>                <div id=\"8633358a-6393-4614-a751-63afb719c4c9\" class=\"plotly-graph-div\" style=\"height:864px; width:100%;\"></div>            <script type=\"text/javascript\">                                    window.PLOTLYENV=window.PLOTLYENV || {};                                    if (document.getElementById(\"8633358a-6393-4614-a751-63afb719c4c9\")) {                    Plotly.newPlot(                        \"8633358a-6393-4614-a751-63afb719c4c9\",                        [{\"alignmentgroup\":\"True\",\"hovertemplate\":\"% Retroceso=%{marker.color}\\u003cbr\\u003eLenguajes de Programación=%{y}\\u003cextra\\u003e\\u003c\\u002fextra\\u003e\",\"legendgroup\":\"\",\"marker\":{\"color\":[-0.10585672699142956,-0.1913563910998919,-0.47228385888484015,-0.4743195651731369,-0.5333550475337421,-0.9343891863281968,-1.0463530321845163,-1.0606029762025937,-1.2499236610141886,-1.6916719255745782,-1.734421757628809,-1.8891354355393604,-4.5599820857846645,-4.95898051829082,-5.559513873338355,-6.347332206909187,-7.652219937707386,-8.859393766667345,-8.89400077356839,-12.17352360401441,-13.907945361643225,-14.997048225881969,-18.376320664454532,-21.195773873745498],\"coloraxis\":\"coloraxis\",\"pattern\":{\"shape\":\"\"}},\"name\":\"\",\"offsetgroup\":\"\",\"orientation\":\"h\",\"showlegend\":false,\"textposition\":\"auto\",\"x\":[-0.10585672699142956,-0.1913563910998919,-0.47228385888484015,-0.4743195651731369,-0.5333550475337421,-0.9343891863281968,-1.0463530321845163,-1.0606029762025937,-1.2499236610141886,-1.6916719255745782,-1.734421757628809,-1.8891354355393604,-4.5599820857846645,-4.95898051829082,-5.559513873338355,-6.347332206909187,-7.652219937707386,-8.859393766667345,-8.89400077356839,-12.17352360401441,-13.907945361643225,-14.997048225881969,-18.376320664454532,-21.195773873745498],\"xaxis\":\"x\",\"y\":[\"Fortran\",\"Assembly\",\"Dart\",\"Delphi\",\"R\",\"Ruby\",\"Perl\",\"Lua\",\"MATLAB\",\"Visual Basic (.Net)\",\"VBA\",\"Groovy\",\"C++\",\"C\",\"C#\",\"PHP\",\"TypeScript\",\"PowerShell\",\"Java\",\"Python\",\"Bash\\u002fShell (all shells)\",\"SQL\",\"HTML\\u002fCSS\",\"JavaScript\"],\"yaxis\":\"y\",\"type\":\"bar\"}],                        {\"template\":{\"data\":{\"histogram2dcontour\":[{\"type\":\"histogram2dcontour\",\"colorbar\":{\"outlinewidth\":0,\"ticks\":\"\"},\"colorscale\":[[0.0,\"#0d0887\"],[0.1111111111111111,\"#46039f\"],[0.2222222222222222,\"#7201a8\"],[0.3333333333333333,\"#9c179e\"],[0.4444444444444444,\"#bd3786\"],[0.5555555555555556,\"#d8576b\"],[0.6666666666666666,\"#ed7953\"],[0.7777777777777778,\"#fb9f3a\"],[0.8888888888888888,\"#fdca26\"],[1.0,\"#f0f921\"]]}],\"choropleth\":[{\"type\":\"choropleth\",\"colorbar\":{\"outlinewidth\":0,\"ticks\":\"\"}}],\"histogram2d\":[{\"type\":\"histogram2d\",\"colorbar\":{\"outlinewidth\":0,\"ticks\":\"\"},\"colorscale\":[[0.0,\"#0d0887\"],[0.1111111111111111,\"#46039f\"],[0.2222222222222222,\"#7201a8\"],[0.3333333333333333,\"#9c179e\"],[0.4444444444444444,\"#bd3786\"],[0.5555555555555556,\"#d8576b\"],[0.6666666666666666,\"#ed7953\"],[0.7777777777777778,\"#fb9f3a\"],[0.8888888888888888,\"#fdca26\"],[1.0,\"#f0f921\"]]}],\"heatmap\":[{\"type\":\"heatmap\",\"colorbar\":{\"outlinewidth\":0,\"ticks\":\"\"},\"colorscale\":[[0.0,\"#0d0887\"],[0.1111111111111111,\"#46039f\"],[0.2222222222222222,\"#7201a8\"],[0.3333333333333333,\"#9c179e\"],[0.4444444444444444,\"#bd3786\"],[0.5555555555555556,\"#d8576b\"],[0.6666666666666666,\"#ed7953\"],[0.7777777777777778,\"#fb9f3a\"],[0.8888888888888888,\"#fdca26\"],[1.0,\"#f0f921\"]]}],\"heatmapgl\":[{\"type\":\"heatmapgl\",\"colorbar\":{\"outlinewidth\":0,\"ticks\":\"\"},\"colorscale\":[[0.0,\"#0d0887\"],[0.1111111111111111,\"#46039f\"],[0.2222222222222222,\"#7201a8\"],[0.3333333333333333,\"#9c179e\"],[0.4444444444444444,\"#bd3786\"],[0.5555555555555556,\"#d8576b\"],[0.6666666666666666,\"#ed7953\"],[0.7777777777777778,\"#fb9f3a\"],[0.8888888888888888,\"#fdca26\"],[1.0,\"#f0f921\"]]}],\"contourcarpet\":[{\"type\":\"contourcarpet\",\"colorbar\":{\"outlinewidth\":0,\"ticks\":\"\"}}],\"contour\":[{\"type\":\"contour\",\"colorbar\":{\"outlinewidth\":0,\"ticks\":\"\"},\"colorscale\":[[0.0,\"#0d0887\"],[0.1111111111111111,\"#46039f\"],[0.2222222222222222,\"#7201a8\"],[0.3333333333333333,\"#9c179e\"],[0.4444444444444444,\"#bd3786\"],[0.5555555555555556,\"#d8576b\"],[0.6666666666666666,\"#ed7953\"],[0.7777777777777778,\"#fb9f3a\"],[0.8888888888888888,\"#fdca26\"],[1.0,\"#f0f921\"]]}],\"surface\":[{\"type\":\"surface\",\"colorbar\":{\"outlinewidth\":0,\"ticks\":\"\"},\"colorscale\":[[0.0,\"#0d0887\"],[0.1111111111111111,\"#46039f\"],[0.2222222222222222,\"#7201a8\"],[0.3333333333333333,\"#9c179e\"],[0.4444444444444444,\"#bd3786\"],[0.5555555555555556,\"#d8576b\"],[0.6666666666666666,\"#ed7953\"],[0.7777777777777778,\"#fb9f3a\"],[0.8888888888888888,\"#fdca26\"],[1.0,\"#f0f921\"]]}],\"mesh3d\":[{\"type\":\"mesh3d\",\"colorbar\":{\"outlinewidth\":0,\"ticks\":\"\"}}],\"scatter\":[{\"fillpattern\":{\"fillmode\":\"overlay\",\"size\":10,\"solidity\":0.2},\"type\":\"scatter\"}],\"parcoords\":[{\"type\":\"parcoords\",\"line\":{\"colorbar\":{\"outlinewidth\":0,\"ticks\":\"\"}}}],\"scatterpolargl\":[{\"type\":\"scatterpolargl\",\"marker\":{\"colorbar\":{\"outlinewidth\":0,\"ticks\":\"\"}}}],\"bar\":[{\"error_x\":{\"color\":\"#2a3f5f\"},\"error_y\":{\"color\":\"#2a3f5f\"},\"marker\":{\"line\":{\"color\":\"#E5ECF6\",\"width\":0.5},\"pattern\":{\"fillmode\":\"overlay\",\"size\":10,\"solidity\":0.2}},\"type\":\"bar\"}],\"scattergeo\":[{\"type\":\"scattergeo\",\"marker\":{\"colorbar\":{\"outlinewidth\":0,\"ticks\":\"\"}}}],\"scatterpolar\":[{\"type\":\"scatterpolar\",\"marker\":{\"colorbar\":{\"outlinewidth\":0,\"ticks\":\"\"}}}],\"histogram\":[{\"marker\":{\"pattern\":{\"fillmode\":\"overlay\",\"size\":10,\"solidity\":0.2}},\"type\":\"histogram\"}],\"scattergl\":[{\"type\":\"scattergl\",\"marker\":{\"colorbar\":{\"outlinewidth\":0,\"ticks\":\"\"}}}],\"scatter3d\":[{\"type\":\"scatter3d\",\"line\":{\"colorbar\":{\"outlinewidth\":0,\"ticks\":\"\"}},\"marker\":{\"colorbar\":{\"outlinewidth\":0,\"ticks\":\"\"}}}],\"scattermapbox\":[{\"type\":\"scattermapbox\",\"marker\":{\"colorbar\":{\"outlinewidth\":0,\"ticks\":\"\"}}}],\"scatterternary\":[{\"type\":\"scatterternary\",\"marker\":{\"colorbar\":{\"outlinewidth\":0,\"ticks\":\"\"}}}],\"scattercarpet\":[{\"type\":\"scattercarpet\",\"marker\":{\"colorbar\":{\"outlinewidth\":0,\"ticks\":\"\"}}}],\"carpet\":[{\"aaxis\":{\"endlinecolor\":\"#2a3f5f\",\"gridcolor\":\"white\",\"linecolor\":\"white\",\"minorgridcolor\":\"white\",\"startlinecolor\":\"#2a3f5f\"},\"baxis\":{\"endlinecolor\":\"#2a3f5f\",\"gridcolor\":\"white\",\"linecolor\":\"white\",\"minorgridcolor\":\"white\",\"startlinecolor\":\"#2a3f5f\"},\"type\":\"carpet\"}],\"table\":[{\"cells\":{\"fill\":{\"color\":\"#EBF0F8\"},\"line\":{\"color\":\"white\"}},\"header\":{\"fill\":{\"color\":\"#C8D4E3\"},\"line\":{\"color\":\"white\"}},\"type\":\"table\"}],\"barpolar\":[{\"marker\":{\"line\":{\"color\":\"#E5ECF6\",\"width\":0.5},\"pattern\":{\"fillmode\":\"overlay\",\"size\":10,\"solidity\":0.2}},\"type\":\"barpolar\"}],\"pie\":[{\"automargin\":true,\"type\":\"pie\"}]},\"layout\":{\"autotypenumbers\":\"strict\",\"colorway\":[\"#636efa\",\"#EF553B\",\"#00cc96\",\"#ab63fa\",\"#FFA15A\",\"#19d3f3\",\"#FF6692\",\"#B6E880\",\"#FF97FF\",\"#FECB52\"],\"font\":{\"color\":\"#2a3f5f\"},\"hovermode\":\"closest\",\"hoverlabel\":{\"align\":\"left\"},\"paper_bgcolor\":\"white\",\"plot_bgcolor\":\"#E5ECF6\",\"polar\":{\"bgcolor\":\"#E5ECF6\",\"angularaxis\":{\"gridcolor\":\"white\",\"linecolor\":\"white\",\"ticks\":\"\"},\"radialaxis\":{\"gridcolor\":\"white\",\"linecolor\":\"white\",\"ticks\":\"\"}},\"ternary\":{\"bgcolor\":\"#E5ECF6\",\"aaxis\":{\"gridcolor\":\"white\",\"linecolor\":\"white\",\"ticks\":\"\"},\"baxis\":{\"gridcolor\":\"white\",\"linecolor\":\"white\",\"ticks\":\"\"},\"caxis\":{\"gridcolor\":\"white\",\"linecolor\":\"white\",\"ticks\":\"\"}},\"coloraxis\":{\"colorbar\":{\"outlinewidth\":0,\"ticks\":\"\"}},\"colorscale\":{\"sequential\":[[0.0,\"#0d0887\"],[0.1111111111111111,\"#46039f\"],[0.2222222222222222,\"#7201a8\"],[0.3333333333333333,\"#9c179e\"],[0.4444444444444444,\"#bd3786\"],[0.5555555555555556,\"#d8576b\"],[0.6666666666666666,\"#ed7953\"],[0.7777777777777778,\"#fb9f3a\"],[0.8888888888888888,\"#fdca26\"],[1.0,\"#f0f921\"]],\"sequentialminus\":[[0.0,\"#0d0887\"],[0.1111111111111111,\"#46039f\"],[0.2222222222222222,\"#7201a8\"],[0.3333333333333333,\"#9c179e\"],[0.4444444444444444,\"#bd3786\"],[0.5555555555555556,\"#d8576b\"],[0.6666666666666666,\"#ed7953\"],[0.7777777777777778,\"#fb9f3a\"],[0.8888888888888888,\"#fdca26\"],[1.0,\"#f0f921\"]],\"diverging\":[[0,\"#8e0152\"],[0.1,\"#c51b7d\"],[0.2,\"#de77ae\"],[0.3,\"#f1b6da\"],[0.4,\"#fde0ef\"],[0.5,\"#f7f7f7\"],[0.6,\"#e6f5d0\"],[0.7,\"#b8e186\"],[0.8,\"#7fbc41\"],[0.9,\"#4d9221\"],[1,\"#276419\"]]},\"xaxis\":{\"gridcolor\":\"white\",\"linecolor\":\"white\",\"ticks\":\"\",\"title\":{\"standoff\":15},\"zerolinecolor\":\"white\",\"automargin\":true,\"zerolinewidth\":2},\"yaxis\":{\"gridcolor\":\"white\",\"linecolor\":\"white\",\"ticks\":\"\",\"title\":{\"standoff\":15},\"zerolinecolor\":\"white\",\"automargin\":true,\"zerolinewidth\":2},\"scene\":{\"xaxis\":{\"backgroundcolor\":\"#E5ECF6\",\"gridcolor\":\"white\",\"linecolor\":\"white\",\"showbackground\":true,\"ticks\":\"\",\"zerolinecolor\":\"white\",\"gridwidth\":2},\"yaxis\":{\"backgroundcolor\":\"#E5ECF6\",\"gridcolor\":\"white\",\"linecolor\":\"white\",\"showbackground\":true,\"ticks\":\"\",\"zerolinecolor\":\"white\",\"gridwidth\":2},\"zaxis\":{\"backgroundcolor\":\"#E5ECF6\",\"gridcolor\":\"white\",\"linecolor\":\"white\",\"showbackground\":true,\"ticks\":\"\",\"zerolinecolor\":\"white\",\"gridwidth\":2}},\"shapedefaults\":{\"line\":{\"color\":\"#2a3f5f\"}},\"annotationdefaults\":{\"arrowcolor\":\"#2a3f5f\",\"arrowhead\":0,\"arrowwidth\":1},\"geo\":{\"bgcolor\":\"white\",\"landcolor\":\"#E5ECF6\",\"subunitcolor\":\"white\",\"showland\":true,\"showlakes\":true,\"lakecolor\":\"white\"},\"title\":{\"x\":0.05},\"mapbox\":{\"style\":\"light\"}}},\"xaxis\":{\"anchor\":\"y\",\"domain\":[0.0,1.0],\"title\":{\"text\":\"% Retroceso\"}},\"yaxis\":{\"anchor\":\"x\",\"domain\":[0.0,1.0],\"title\":{\"text\":\"Lenguajes de Programación\"}},\"coloraxis\":{\"colorbar\":{\"title\":{\"text\":\"% Retroceso\"}},\"colorscale\":[[0.0,\"rgb(225, 83, 131)\"],[0.16666666666666666,\"rgb(241, 109, 122)\"],[0.3333333333333333,\"rgb(250, 138, 118)\"],[0.5,\"rgb(255, 166, 121)\"],[0.6666666666666666,\"rgb(255, 194, 133)\"],[0.8333333333333334,\"rgb(255, 221, 154)\"],[1.0,\"rgb(254, 246, 181)\"]]},\"legend\":{\"tracegroupgap\":0},\"title\":{\"text\":\"📉 Tecnologías que pierden interés en 2025\",\"xanchor\":\"center\",\"x\":0.5},\"barmode\":\"relative\",\"font\":{\"size\":14,\"color\":\"#fff\"},\"paper_bgcolor\":\"black\",\"plot_bgcolor\":\"black\",\"height\":864},                        {\"responsive\": true}                    ).then(function(){\n",
              "                            \n",
              "var gd = document.getElementById('8633358a-6393-4614-a751-63afb719c4c9');\n",
              "var x = new MutationObserver(function (mutations, observer) {{\n",
              "        var display = window.getComputedStyle(gd).display;\n",
              "        if (!display || display === 'none') {{\n",
              "            console.log([gd, 'removed!']);\n",
              "            Plotly.purge(gd);\n",
              "            observer.disconnect();\n",
              "        }}\n",
              "}});\n",
              "\n",
              "// Listen for the removal of the full notebook cells\n",
              "var notebookContainer = gd.closest('#notebook-container');\n",
              "if (notebookContainer) {{\n",
              "    x.observe(notebookContainer, {childList: true});\n",
              "}}\n",
              "\n",
              "// Listen for the clearing of the current output cell\n",
              "var outputEl = gd.closest('.output');\n",
              "if (outputEl) {{\n",
              "    x.observe(outputEl, {childList: true});\n",
              "}}\n",
              "\n",
              "                        })                };                            </script>        </div>\n",
              "</body>\n",
              "</html>"
            ]
          },
          "metadata": {}
        }
      ],
      "execution_count": 27
    },
    {
      "metadata": {
        "id": "a40257a732986c43"
      },
      "cell_type": "markdown",
      "source": [
        "> ⚠️ Un valor negativo significa que un lenguaje es más usado que deseado, lo cual no siempre significa que un lenguaje esté \"muriendo\", sino que en muchos casos refleja tecnologías muy **consolidadas**."
      ],
      "id": "a40257a732986c43"
    }
  ],
  "metadata": {
    "kernelspec": {
      "display_name": "Python 3",
      "language": "python",
      "name": "python3"
    },
    "language_info": {
      "codemirror_mode": {
        "name": "ipython",
        "version": 2
      },
      "file_extension": ".py",
      "mimetype": "text/x-python",
      "name": "python",
      "nbconvert_exporter": "python",
      "pygments_lexer": "ipython2",
      "version": "2.7.6"
    },
    "colab": {
      "provenance": [],
      "include_colab_link": true
    }
  },
  "nbformat": 4,
  "nbformat_minor": 5
}