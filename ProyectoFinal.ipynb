{
 "cells": [
  {
   "metadata": {
    "ExecuteTime": {
     "end_time": "2025-09-28T07:06:08.914728Z",
     "start_time": "2025-09-28T07:06:08.908766Z"
    }
   },
   "cell_type": "code",
   "source": [
    "from IPython.display import HTML\n",
    "\n",
    "HTML(open('assets/doc.html', 'r', encoding='utf-8').read())"
   ],
   "id": "dc0a0e601ec608ec",
   "outputs": [
    {
     "data": {
      "text/plain": [
       "<IPython.core.display.HTML object>"
      ],
      "text/html": [
       "<!DOCTYPE html>\n",
       "<html lang=\"es\">\n",
       "<body>\n",
       "<div style=\"\n",
       "  font-family: 'Segoe UI', 'Roboto', sans-serif;\n",
       "  background: #0a0a0f;\n",
       "  color: #f2f2f2;\n",
       "  padding: 28px;\n",
       "  border-radius: 14px;\n",
       "  border: 2px solid #1e1e2f;\n",
       "  box-shadow: 0 0 12px rgba(0,0,0,.4), 0 0 20px rgba(138,92,255,.25);\n",
       "  line-height: 1.7;\n",
       "\">\n",
       "    <h1 style=\"\n",
       "    font-size: 36px;\n",
       "    background: linear-gradient(90deg, #ff5e80, #8a5cff, #00e0ff);\n",
       "    -webkit-background-clip: text;\n",
       "    -webkit-text-fill-color: transparent;\n",
       "    text-shadow: 0 0 8px rgba(255,94,128,.5), 0 0 12px rgba(0,224,255,.4);\n",
       "    margin-top: 0;\n",
       "    line-height: 1.3;\n",
       "  \">\n",
       "        Proyecto Final: <br>\n",
       "        Análisis de Encuesta de Desarrolladores por Stack Overflow en 2025 👨‍💻\n",
       "    </h1>\n",
       "\n",
       "    <h2 style=\"color:#8a5cff;\">👤 Alumno</h2>\n",
       "    <p><strong>Fernando Javier García Liévano</strong></p>\n",
       "\n",
       "    <h2 style=\"color:#00e0ff;\">📑 Abstract</h2>\n",
       "    <p>\n",
       "        Durante mi proyecto, estaré llevando a cabo un análisis exploratorio enfocado en un conjunto de datos obtenido\n",
       "        de la\n",
       "        <strong>Encuesta a Desarrolladores de Stack Overflow 2025</strong>. Esta encuesta es ampliamente reconocida en\n",
       "        la\n",
       "        comunidad tecnológica, ya que recopila información de miles de desarrolladores alrededor del mundo, brindándonos\n",
       "        una\n",
       "        visión muy completa del estado actual de la industria del desarrollo de software. Los datos en el conjunto\n",
       "        seleccionado\n",
       "        incluyen aspectos como los lenguajes de programación más utilizados, las tecnologías que marcan tendencia, los\n",
       "        roles\n",
       "        más comunes dentro de las empresas, los niveles salariales y otros factores relevantes que permiten comprender\n",
       "        con\n",
       "        mayor detalle el ecosistema en el que trabajamos quienes formamos parte de este campo.\n",
       "    </p>\n",
       "\n",
       "    <p>\n",
       "        Mi interés no se limita únicamente a observar números y porcentajes, sino a interpretar lo que esos datos dicen\n",
       "        acerca\n",
       "        de la realidad que viven los desarrolladores día a día. ¿Qué lenguajes aparecen como emergentes y ganan\n",
       "        popularidad a\n",
       "        gran velocidad? ¿Cuáles, en cambio, empiezan a perder vigencia frente a alternativas más modernas? ¿Cómo impacta\n",
       "        la\n",
       "        experiencia laboral, el país de residencia o el rol desempeñado en la brecha salarial entre profesionales? Estas\n",
       "        son\n",
       "        preguntas que, más allá de lo académico, también me interpelan personalmente porque me ayudan a visualizar en\n",
       "        qué lugar\n",
       "        del mercado laboral me encuentro y hacia dónde puedo proyectar mi crecimiento.\n",
       "    </p>\n",
       "\n",
       "    <p>\n",
       "        Este análisis exploratorio será además la base de la siguiente fase del proyecto, en la cual se seleccionará y\n",
       "        aplicará\n",
       "        un modelo de Aprendizaje Automático al mismo dataset. En resumen, mi propósito no es solo practicar y afianzar\n",
       "        mis\n",
       "        habilidades en <strong>Ciencia de Datos</strong>, Python y herramientas asociadas, sino también ganar una\n",
       "        comprensión\n",
       "        más humana y realista de la industria tecnológica. Con ello, espero fortalecer mi perfil profesional y\n",
       "        prepararme mejor\n",
       "        para los desafíos que vendrán en mi carrera como desarrollador.\n",
       "    </p>\n",
       "\n",
       "\n",
       "    <h2 style=\"color:#f8c2fb;\">❓ Preguntas e Hipótesis</h2>\n",
       "    <ol>\n",
       "        <li>¿Qué lenguajes de programación están en auge?</li>\n",
       "        <li>¿Qué tecnologías están perdiendo relevancia?</li>\n",
       "        <li>¿Cómo varían los salarios dependiendo de la región, el rol o los años de experiencia?</li>\n",
       "    </ol>\n",
       "</div>\n",
       "</body>\n",
       "</html>"
      ]
     },
     "execution_count": 3,
     "metadata": {},
     "output_type": "execute_result"
    }
   ],
   "execution_count": 3
  },
  {
   "metadata": {},
   "cell_type": "markdown",
   "source": [
    "## Análisis Exploratorio de Datos\n",
    "Llevaremos a cabo un análisis exploratorio de datos utilizando visualizaciones interactivas y estadísticas descriptivas, con el objetivo de comprender mejor los resultados de la encuesta hecha por Stack Overflow en 2025. Mediante este proceso podremos responder preguntas sobre lenguajes de programación más usados, tecnologías en tendencias, roles comunes y niveles salariales."
   ],
   "id": "f8e91d9c24a8c316"
  },
  {
   "metadata": {},
   "cell_type": "markdown",
   "source": "### Instalación e Importación de librerías necesarias y DataSet",
   "id": "eb30e3e93c1a9fa4"
  },
  {
   "metadata": {},
   "cell_type": "code",
   "source": "%pip install pandas numpy plotly",
   "id": "c3dadcaaf4bd08f2",
   "outputs": [],
   "execution_count": null
  },
  {
   "metadata": {
    "ExecuteTime": {
     "end_time": "2025-09-28T07:07:09.667639Z",
     "start_time": "2025-09-28T07:07:08.970865Z"
    }
   },
   "cell_type": "code",
   "source": [
    "# importación de librerías a utilizar\n",
    "import pandas as pd\n",
    "import plotly.express as px"
   ],
   "id": "a02e8d54647e187e",
   "outputs": [],
   "execution_count": 5
  },
  {
   "metadata": {
    "ExecuteTime": {
     "end_time": "2025-09-28T07:09:26.504910Z",
     "start_time": "2025-09-28T07:09:20.295348Z"
    }
   },
   "cell_type": "code",
   "source": [
    "# importación de dataset\n",
    "dataset_url = \"https://raw.githubusercontent.com/fernandolievano/ProyectoFinal_PP1/main/data/stack-overflow-developer-survey-2025.csv.gz\"\n",
    "df = pd.read_csv(dataset_url, compression='gzip')  # especifico que estoy usando un archivo .gz\n",
    "\n",
    "print(\"✅ DataSet cargado con éxto\")\n",
    "print(f\"ℹ️ Forma del DataSet: {df.shape}\")\n",
    "print(\"ℹ️ Información del DataSet\")\n",
    "df.info()\n"
   ],
   "id": "2247d3898da537bf",
   "outputs": [
    {
     "name": "stdout",
     "output_type": "stream",
     "text": [
      "✅ DataSet cargado con éxto\n",
      "ℹ️ Forma del DataSet: (49123, 170)\n",
      "ℹ️ Información del DataSet\n",
      "<class 'pandas.core.frame.DataFrame'>\n",
      "RangeIndex: 49123 entries, 0 to 49122\n",
      "Columns: 170 entries, ResponseId to JobSat\n",
      "dtypes: float64(50), int64(1), object(119)\n",
      "memory usage: 63.7+ MB\n"
     ]
    }
   ],
   "execution_count": 8
  },
  {
   "metadata": {},
   "cell_type": "markdown",
   "source": "### Verificación de nulos",
   "id": "5f3ff6a8ea31d5a9"
  },
  {
   "metadata": {
    "ExecuteTime": {
     "end_time": "2025-09-28T07:20:48.846397Z",
     "start_time": "2025-09-28T07:20:48.499533Z"
    }
   },
   "cell_type": "code",
   "source": [
    "pd.set_option('display.max_rows', None)  # Activo display.max_rows para poder ver todos mis campos nulos\n",
    "\n",
    "tiene_nulos = df.isnull().sum() > 0  # Máscara para mostrar solo resultados con valores nulos\n",
    "nulos = df.isnull().sum()[tiene_nulos].sort_values(ascending=False)\n",
    "nulos_cantidad = len(nulos)\n",
    "nulos_porcentaje = (nulos / df.shape[0]) * 100\n",
    "\n",
    "print(f\"❗ Encontramos {nulos_cantidad} campos con datos nulos\")\n",
    "print(\"ℹ️ Porcentaje de valores nulos encontrados por campo:\")\n",
    "\n",
    "print(nulos_porcentaje.sort_values(ascending=False).to_frame(name=\"Porcentaje\"))\n",
    "\n",
    "pd.reset_option('display.max_rows', None)  # Desactivo de nuevo display.max_rows"
   ],
   "id": "44f881539dc350c6",
   "outputs": [
    {
     "name": "stdout",
     "output_type": "stream",
     "text": [
      "❗ Encontramos 167 campos con datos nulos\n",
      "ℹ️ Porcentaje de valores nulos encontrados por campo:\n",
      "                                          Porcentaje\n",
      "AIAgentObsWrite                            99.462574\n",
      "SOTagsWant Entry                           99.124646\n",
      "SOTagsHaveEntry                            99.069682\n",
      "AIModelsWantEntry                          99.035075\n",
      "AIAgentOrchWrite                           99.028968\n",
      "JobSatPoints_15_TEXT                       98.648291\n",
      "AIAgentKnowWrite                           98.442685\n",
      "AIModelsHaveEntry                          98.422328\n",
      "SO_Actions_15_TEXT                         98.324614\n",
      "AIAgentExtWrite                            98.253364\n",
      "CommPlatformWantEntr                       97.591759\n",
      "CommPlatformHaveEntr                       96.997333\n",
      "DatabaseWantEntry                          96.889441\n",
      "OfficeStackWantEntry                       96.708263\n",
      "TechOppose_15_TEXT                         96.651263\n",
      "TechEndorse_13_TEXT                        95.912302\n",
      "DevEnvWantEntry                            95.704660\n",
      "DatabaseHaveEntry                          95.627303\n",
      "OfficeStackHaveEntry                       94.733628\n",
      "WebframeWantEntry                          94.654235\n",
      "AIAgentObserveSecure                       94.521914\n",
      "DevEnvHaveEntry                            94.381451\n",
      "PlatformWantEntry                          93.697453\n",
      "LanguagesWantEntry                         93.597704\n",
      "WebframeHaveEntry                          93.302526\n",
      "AIAgentKnowledge                           93.078599\n",
      "AIAgentOrchestration                       92.345744\n",
      "AIAgentImpactStrongly disagree             92.313173\n",
      "PlatformHaveEntry                          91.954889\n",
      "LanguagesHaveEntry                         91.908068\n",
      "AIAgentImpactSomewhat disagree             88.225475\n",
      "AgentUsesGeneral                           88.192904\n",
      "AIAgentImpactStrongly agree                86.397411\n",
      "AIAgentExternal                            83.050709\n",
      "AIAgentChallengesStrongly disagree         81.057753\n",
      "AIAgentImpactNeutral                       80.324899\n",
      "AIAgentImpactSomewhat agree                79.368117\n",
      "AIToolCurrently mostly AI                  77.179733\n",
      "AIModelsAdmired                            77.053519\n",
      "AIModelsWantToWorkWith                     75.913523\n",
      "AIAgentChallengesSomewhat disagree         75.335383\n",
      "SOTagsAdmired                              75.105348\n",
      "AIAgent_Uses                               74.946563\n",
      "AIToolPlan to mostly use AI                73.940924\n",
      "SOTagsWantToWorkWith                       72.363251\n",
      "WebframeAdmired                            68.045518\n",
      "AIModelsHaveWorkedWith                     66.897380\n",
      "DatabaseAdmired                            64.818924\n",
      "WebframeWantToWorkWith                     64.124748\n",
      "PlatformAdmired                            63.756285\n",
      "SOTagsHaveWorkedWith                       63.548643\n",
      "PlatformWantToWorkWith                     60.515441\n",
      "DevEnvsAdmired                             60.364799\n",
      "DatabaseWantToWorkWith                     59.859943\n",
      "DevEnvsWantToWorkWith                      58.080736\n",
      "AIToolCurrently partially AI               57.244061\n",
      "AIAgentChallengesNeutral                   56.682206\n",
      "AIAgentChallengesSomewhat agree            55.363068\n",
      "OfficeStackAsyncAdmired                    54.837856\n",
      "AIOpen                                     54.155894\n",
      "AIToolPlan to partially use AI             54.133502\n",
      "SO_Dev_Content                             53.545183\n",
      "CommPlatformAdmired                        53.471897\n",
      "WebframeHaveWorkedWith                     53.239827\n",
      "AIAgentChallengesStrongly agree            53.011827\n",
      "OfficeStackAsyncWantToWorkWith             52.806221\n",
      "CommPlatformWantToWorkWith                 52.506972\n",
      "LanguageAdmired                            52.268795\n",
      "ConvertedCompYearly                        51.289620\n",
      "PlatformHaveWorkedWith                     50.666694\n",
      "SO_Actions_16                              50.489587\n",
      "CompTotal                                  49.435092\n",
      "JobSatPoints_11                            49.276306\n",
      "JobSatPoints_6                             49.276306\n",
      "JobSatPoints_5                             49.276306\n",
      "JobSatPoints_1                             49.276306\n",
      "JobSatPoints_14                            49.276306\n",
      "JobSatPoints_13                            49.276306\n",
      "JobSatPoints_15                            49.276306\n",
      "JobSatPoints_8                             49.276306\n",
      "JobSatPoints_4                             49.276306\n",
      "JobSatPoints_7                             49.276306\n",
      "JobSatPoints_16                            49.276306\n",
      "JobSatPoints_10                            49.276306\n",
      "JobSatPoints_9                             49.276306\n",
      "AIToolDon't plan to use AI for this task   48.378560\n",
      "DatabaseHaveWorkedWith                     48.032490\n",
      "ToolCountPersonal                          47.977526\n",
      "DevEnvsHaveWorkedWith                      47.083851\n",
      "SO_Actions_10                              46.581031\n",
      "SO_Actions_7                               46.581031\n",
      "SO_Actions_9                               46.581031\n",
      "SO_Actions_1                               46.581031\n",
      "SO_Actions_3                               46.581031\n",
      "SO_Actions_4                               46.581031\n",
      "SO_Actions_6                               46.581031\n",
      "SO_Actions_5                               46.581031\n",
      "SO_Actions_15                              46.581031\n",
      "AIExplain                                  45.923498\n",
      "JobSat                                     45.762677\n",
      "LanguageWantToWorkWith                     44.926002\n",
      "ToolCountWork                              43.851149\n",
      "AILearnHow                                 42.544226\n",
      "OpSysProfessional use                      41.253588\n",
      "AIHuman                                    40.624555\n",
      "OfficeStackAsyncHaveWorkedWith             39.274881\n",
      "CommPlatformHaveWorkedWith                 38.851455\n",
      "AIModelsChoice                             38.501313\n",
      "SOFriction                                 37.375567\n",
      "DevEnvsChoice                              36.789284\n",
      "WebframeChoice                             36.559249\n",
      "PlatformChoice                             36.418785\n",
      "OpSysPersonal use                          36.103251\n",
      "AIFrustration                              35.893573\n",
      "LanguageHaveWorkedWith                     35.584146\n",
      "AIAgentChange                              35.576003\n",
      "DatabaseChoice                             35.551575\n",
      "SOComm                                     35.512896\n",
      "AIAgents                                   35.081326\n",
      "LanguageChoice                             34.480793\n",
      "SOPartFreq                                 34.450258\n",
      "SODuration                                 33.642082\n",
      "SOVisitFreq                                33.473118\n",
      "SOAccount                                  33.296012\n",
      "ICorPM                                     32.392158\n",
      "AIComplex                                  32.312766\n",
      "AIAcc                                      32.284266\n",
      "AISent                                     31.938196\n",
      "LearnCode                                  31.771268\n",
      "Industry                                   31.586019\n",
      "AISelect                                   31.425198\n",
      "RemoteWork                                 31.301020\n",
      "OrgSize                                    30.492844\n",
      "TechOppose_15                              30.323881\n",
      "TechOppose_11                              30.323881\n",
      "TechOppose_5                               30.323881\n",
      "TechOppose_1                               30.323881\n",
      "TechOppose_7                               30.323881\n",
      "TechOppose_9                               30.323881\n",
      "TechOppose_16                              30.323881\n",
      "TechOppose_13                              30.323881\n",
      "TechOppose_3                               30.323881\n",
      "TechOppose_2                               30.323881\n",
      "Country                                    27.931926\n",
      "Currency                                   27.931926\n",
      "NewRole                                    27.750748\n",
      "TechEndorse_1                              26.830609\n",
      "TechEndorse_4                              26.830609\n",
      "TechEndorse_3                              26.830609\n",
      "TechEndorse_2                              26.830609\n",
      "TechEndorse_8                              26.830609\n",
      "TechEndorse_9                              26.830609\n",
      "TechEndorse_13                             26.830609\n",
      "TechEndorse_5                              26.830609\n",
      "TechEndorse_6                              26.830609\n",
      "TechEndorse_7                              26.830609\n",
      "AIThreat                                   26.631110\n",
      "PurchaseInfluence                          23.860513\n",
      "TechEndorseIntro                           23.620300\n",
      "WorkExp                                    12.782200\n",
      "YearsCode                                  12.464630\n",
      "DevType                                    11.169920\n",
      "EmploymentAddl                              8.759644\n",
      "LearnCodeAI                                 8.081754\n",
      "LearnCodeChoose                             4.726910\n",
      "EdLevel                                     2.108992\n",
      "Employment                                  1.722208\n"
     ]
    }
   ],
   "execution_count": 20
  },
  {
   "metadata": {},
   "cell_type": "markdown",
   "source": [
    "### Altos nulos\n",
    "En este gráfico se muestran las variables con mayor porcentaje de valores faltantes.\n",
    "Dado que superan ampliamente el 80% de nulos, pueden considerarse prescindibles para el análisis, ya que su nivel de completitud es insuficiente para obtener insights confiables."
   ],
   "id": "1a59ed3b1bc4dff4"
  },
  {
   "metadata": {
    "ExecuteTime": {
     "end_time": "2025-09-28T08:31:05.773877Z",
     "start_time": "2025-09-28T08:31:05.733357Z"
    }
   },
   "cell_type": "code",
   "source": [
    "sobre_80_porciento = nulos_porcentaje > 80  # Máscara obtener resultados mayores a 80%\n",
    "nulos_altos = nulos_porcentaje[sobre_80_porciento].sort_values(ascending=False)\n",
    "\n",
    "# Gráfico\n",
    "fig_altos_nulos = px.bar(\n",
    "    nulos_altos,\n",
    "    color='value',\n",
    "    orientation='h',\n",
    "    title='⚠️ Variables con más del 80% de valores nulos',\n",
    "    labels={'value': 'Porcentaje de Nulos', 'index': 'Variable'},\n",
    "    color_continuous_scale='Reds'\n",
    ")\n",
    "fig_altos_nulos.update_layout(\n",
    "    height=40 * len(nulos_altos),\n",
    "    font=dict(\n",
    "        size=14,\n",
    "        color='#fff',\n",
    "    ),\n",
    "    title=dict(\n",
    "        xanchor='center',\n",
    "        x=0.5\n",
    "    ),\n",
    "    paper_bgcolor='black',\n",
    "    plot_bgcolor='black',\n",
    ")\n",
    "fig_altos_nulos.show()"
   ],
   "id": "95d479184630cff5",
   "outputs": [
    {
     "data": {
      "application/vnd.plotly.v1+json": {
       "data": [
        {
         "hovertemplate": "Porcentaje de Nulos=%{marker.color}<br>Variable=%{y}<extra></extra>",
         "legendgroup": "",
         "marker": {
          "color": {
           "dtype": "f8",
           "bdata": "jHQMzprdWEC2QXU0+sdYQFy2cKx1xFhAzv8hrD7CWEDDDAWd2sFYQKc0o5l9qVhA/+gp8lScWEAzFHRqB5tYQJLjpHjGlFhAyHqoHTeQWEDd9hJj32VYQGHku07UP1hAWskRmew4WEDbSQwuVC1YQNPCqEuuKVhAE+P5JmP6V0C+myElGe1XQOk/CLsl6FdAgagmwvOuV0D/UK793qlXQNBpkAtnoVdA6ZP2r2mYV0CFP0wTo2xXQDYTHsdAZldApYVRl1xTV0DgYIHCB0VXQCt076wgFldAS7n/BgsUV0CosbLlHP1WQAYVKscd+lZAXpz5LW4OVkB+4QmIWAxWQPbDyixvmVVAdoLS0j7DVED/B5Y5skNUQEobBCTLFFRA"
          },
          "coloraxis": "coloraxis",
          "pattern": {
           "shape": ""
          }
         },
         "name": "",
         "orientation": "h",
         "showlegend": false,
         "textposition": "auto",
         "x": {
          "dtype": "f8",
          "bdata": "jHQMzprdWEC2QXU0+sdYQFy2cKx1xFhAzv8hrD7CWEDDDAWd2sFYQKc0o5l9qVhA/+gp8lScWEAzFHRqB5tYQJLjpHjGlFhAyHqoHTeQWEDd9hJj32VYQGHku07UP1hAWskRmew4WEDbSQwuVC1YQNPCqEuuKVhAE+P5JmP6V0C+myElGe1XQOk/CLsl6FdAgagmwvOuV0D/UK793qlXQNBpkAtnoVdA6ZP2r2mYV0CFP0wTo2xXQDYTHsdAZldApYVRl1xTV0DgYIHCB0VXQCt076wgFldAS7n/BgsUV0CosbLlHP1WQAYVKscd+lZAXpz5LW4OVkB+4QmIWAxWQPbDyixvmVVAdoLS0j7DVED/B5Y5skNUQEobBCTLFFRA"
         },
         "xaxis": "x",
         "y": [
          "AIAgentObsWrite",
          "SOTagsWant Entry",
          "SOTagsHaveEntry",
          "AIModelsWantEntry",
          "AIAgentOrchWrite",
          "JobSatPoints_15_TEXT",
          "AIAgentKnowWrite",
          "AIModelsHaveEntry",
          "SO_Actions_15_TEXT",
          "AIAgentExtWrite",
          "CommPlatformWantEntr",
          "CommPlatformHaveEntr",
          "DatabaseWantEntry",
          "OfficeStackWantEntry",
          "TechOppose_15_TEXT",
          "TechEndorse_13_TEXT",
          "DevEnvWantEntry",
          "DatabaseHaveEntry",
          "OfficeStackHaveEntry",
          "WebframeWantEntry",
          "AIAgentObserveSecure",
          "DevEnvHaveEntry",
          "PlatformWantEntry",
          "LanguagesWantEntry",
          "WebframeHaveEntry",
          "AIAgentKnowledge",
          "AIAgentOrchestration",
          "AIAgentImpactStrongly disagree",
          "PlatformHaveEntry",
          "LanguagesHaveEntry",
          "AIAgentImpactSomewhat disagree",
          "AgentUsesGeneral",
          "AIAgentImpactStrongly agree",
          "AIAgentExternal",
          "AIAgentChallengesStrongly disagree",
          "AIAgentImpactNeutral"
         ],
         "yaxis": "y",
         "type": "bar"
        }
       ],
       "layout": {
        "template": {
         "data": {
          "histogram2dcontour": [
           {
            "type": "histogram2dcontour",
            "colorbar": {
             "outlinewidth": 0,
             "ticks": ""
            },
            "colorscale": [
             [
              0.0,
              "#0d0887"
             ],
             [
              0.1111111111111111,
              "#46039f"
             ],
             [
              0.2222222222222222,
              "#7201a8"
             ],
             [
              0.3333333333333333,
              "#9c179e"
             ],
             [
              0.4444444444444444,
              "#bd3786"
             ],
             [
              0.5555555555555556,
              "#d8576b"
             ],
             [
              0.6666666666666666,
              "#ed7953"
             ],
             [
              0.7777777777777778,
              "#fb9f3a"
             ],
             [
              0.8888888888888888,
              "#fdca26"
             ],
             [
              1.0,
              "#f0f921"
             ]
            ]
           }
          ],
          "choropleth": [
           {
            "type": "choropleth",
            "colorbar": {
             "outlinewidth": 0,
             "ticks": ""
            }
           }
          ],
          "histogram2d": [
           {
            "type": "histogram2d",
            "colorbar": {
             "outlinewidth": 0,
             "ticks": ""
            },
            "colorscale": [
             [
              0.0,
              "#0d0887"
             ],
             [
              0.1111111111111111,
              "#46039f"
             ],
             [
              0.2222222222222222,
              "#7201a8"
             ],
             [
              0.3333333333333333,
              "#9c179e"
             ],
             [
              0.4444444444444444,
              "#bd3786"
             ],
             [
              0.5555555555555556,
              "#d8576b"
             ],
             [
              0.6666666666666666,
              "#ed7953"
             ],
             [
              0.7777777777777778,
              "#fb9f3a"
             ],
             [
              0.8888888888888888,
              "#fdca26"
             ],
             [
              1.0,
              "#f0f921"
             ]
            ]
           }
          ],
          "heatmap": [
           {
            "type": "heatmap",
            "colorbar": {
             "outlinewidth": 0,
             "ticks": ""
            },
            "colorscale": [
             [
              0.0,
              "#0d0887"
             ],
             [
              0.1111111111111111,
              "#46039f"
             ],
             [
              0.2222222222222222,
              "#7201a8"
             ],
             [
              0.3333333333333333,
              "#9c179e"
             ],
             [
              0.4444444444444444,
              "#bd3786"
             ],
             [
              0.5555555555555556,
              "#d8576b"
             ],
             [
              0.6666666666666666,
              "#ed7953"
             ],
             [
              0.7777777777777778,
              "#fb9f3a"
             ],
             [
              0.8888888888888888,
              "#fdca26"
             ],
             [
              1.0,
              "#f0f921"
             ]
            ]
           }
          ],
          "contourcarpet": [
           {
            "type": "contourcarpet",
            "colorbar": {
             "outlinewidth": 0,
             "ticks": ""
            }
           }
          ],
          "contour": [
           {
            "type": "contour",
            "colorbar": {
             "outlinewidth": 0,
             "ticks": ""
            },
            "colorscale": [
             [
              0.0,
              "#0d0887"
             ],
             [
              0.1111111111111111,
              "#46039f"
             ],
             [
              0.2222222222222222,
              "#7201a8"
             ],
             [
              0.3333333333333333,
              "#9c179e"
             ],
             [
              0.4444444444444444,
              "#bd3786"
             ],
             [
              0.5555555555555556,
              "#d8576b"
             ],
             [
              0.6666666666666666,
              "#ed7953"
             ],
             [
              0.7777777777777778,
              "#fb9f3a"
             ],
             [
              0.8888888888888888,
              "#fdca26"
             ],
             [
              1.0,
              "#f0f921"
             ]
            ]
           }
          ],
          "surface": [
           {
            "type": "surface",
            "colorbar": {
             "outlinewidth": 0,
             "ticks": ""
            },
            "colorscale": [
             [
              0.0,
              "#0d0887"
             ],
             [
              0.1111111111111111,
              "#46039f"
             ],
             [
              0.2222222222222222,
              "#7201a8"
             ],
             [
              0.3333333333333333,
              "#9c179e"
             ],
             [
              0.4444444444444444,
              "#bd3786"
             ],
             [
              0.5555555555555556,
              "#d8576b"
             ],
             [
              0.6666666666666666,
              "#ed7953"
             ],
             [
              0.7777777777777778,
              "#fb9f3a"
             ],
             [
              0.8888888888888888,
              "#fdca26"
             ],
             [
              1.0,
              "#f0f921"
             ]
            ]
           }
          ],
          "mesh3d": [
           {
            "type": "mesh3d",
            "colorbar": {
             "outlinewidth": 0,
             "ticks": ""
            }
           }
          ],
          "scatter": [
           {
            "marker": {
             "line": {
              "color": "#283442"
             }
            },
            "type": "scatter"
           }
          ],
          "parcoords": [
           {
            "type": "parcoords",
            "line": {
             "colorbar": {
              "outlinewidth": 0,
              "ticks": ""
             }
            }
           }
          ],
          "scatterpolargl": [
           {
            "type": "scatterpolargl",
            "marker": {
             "colorbar": {
              "outlinewidth": 0,
              "ticks": ""
             }
            }
           }
          ],
          "bar": [
           {
            "error_x": {
             "color": "#f2f5fa"
            },
            "error_y": {
             "color": "#f2f5fa"
            },
            "marker": {
             "line": {
              "color": "rgb(17,17,17)",
              "width": 0.5
             },
             "pattern": {
              "fillmode": "overlay",
              "size": 10,
              "solidity": 0.2
             }
            },
            "type": "bar"
           }
          ],
          "scattergeo": [
           {
            "type": "scattergeo",
            "marker": {
             "colorbar": {
              "outlinewidth": 0,
              "ticks": ""
             }
            }
           }
          ],
          "scatterpolar": [
           {
            "type": "scatterpolar",
            "marker": {
             "colorbar": {
              "outlinewidth": 0,
              "ticks": ""
             }
            }
           }
          ],
          "histogram": [
           {
            "marker": {
             "pattern": {
              "fillmode": "overlay",
              "size": 10,
              "solidity": 0.2
             }
            },
            "type": "histogram"
           }
          ],
          "scattergl": [
           {
            "marker": {
             "line": {
              "color": "#283442"
             }
            },
            "type": "scattergl"
           }
          ],
          "scatter3d": [
           {
            "type": "scatter3d",
            "line": {
             "colorbar": {
              "outlinewidth": 0,
              "ticks": ""
             }
            },
            "marker": {
             "colorbar": {
              "outlinewidth": 0,
              "ticks": ""
             }
            }
           }
          ],
          "scattermap": [
           {
            "type": "scattermap",
            "marker": {
             "colorbar": {
              "outlinewidth": 0,
              "ticks": ""
             }
            }
           }
          ],
          "scattermapbox": [
           {
            "type": "scattermapbox",
            "marker": {
             "colorbar": {
              "outlinewidth": 0,
              "ticks": ""
             }
            }
           }
          ],
          "scatterternary": [
           {
            "type": "scatterternary",
            "marker": {
             "colorbar": {
              "outlinewidth": 0,
              "ticks": ""
             }
            }
           }
          ],
          "scattercarpet": [
           {
            "type": "scattercarpet",
            "marker": {
             "colorbar": {
              "outlinewidth": 0,
              "ticks": ""
             }
            }
           }
          ],
          "carpet": [
           {
            "aaxis": {
             "endlinecolor": "#A2B1C6",
             "gridcolor": "#506784",
             "linecolor": "#506784",
             "minorgridcolor": "#506784",
             "startlinecolor": "#A2B1C6"
            },
            "baxis": {
             "endlinecolor": "#A2B1C6",
             "gridcolor": "#506784",
             "linecolor": "#506784",
             "minorgridcolor": "#506784",
             "startlinecolor": "#A2B1C6"
            },
            "type": "carpet"
           }
          ],
          "table": [
           {
            "cells": {
             "fill": {
              "color": "#506784"
             },
             "line": {
              "color": "rgb(17,17,17)"
             }
            },
            "header": {
             "fill": {
              "color": "#2a3f5f"
             },
             "line": {
              "color": "rgb(17,17,17)"
             }
            },
            "type": "table"
           }
          ],
          "barpolar": [
           {
            "marker": {
             "line": {
              "color": "rgb(17,17,17)",
              "width": 0.5
             },
             "pattern": {
              "fillmode": "overlay",
              "size": 10,
              "solidity": 0.2
             }
            },
            "type": "barpolar"
           }
          ],
          "pie": [
           {
            "automargin": true,
            "type": "pie"
           }
          ]
         },
         "layout": {
          "autotypenumbers": "strict",
          "colorway": [
           "#636efa",
           "#EF553B",
           "#00cc96",
           "#ab63fa",
           "#FFA15A",
           "#19d3f3",
           "#FF6692",
           "#B6E880",
           "#FF97FF",
           "#FECB52"
          ],
          "font": {
           "color": "#f2f5fa"
          },
          "hovermode": "closest",
          "hoverlabel": {
           "align": "left"
          },
          "paper_bgcolor": "rgb(17,17,17)",
          "plot_bgcolor": "rgb(17,17,17)",
          "polar": {
           "bgcolor": "rgb(17,17,17)",
           "angularaxis": {
            "gridcolor": "#506784",
            "linecolor": "#506784",
            "ticks": ""
           },
           "radialaxis": {
            "gridcolor": "#506784",
            "linecolor": "#506784",
            "ticks": ""
           }
          },
          "ternary": {
           "bgcolor": "rgb(17,17,17)",
           "aaxis": {
            "gridcolor": "#506784",
            "linecolor": "#506784",
            "ticks": ""
           },
           "baxis": {
            "gridcolor": "#506784",
            "linecolor": "#506784",
            "ticks": ""
           },
           "caxis": {
            "gridcolor": "#506784",
            "linecolor": "#506784",
            "ticks": ""
           }
          },
          "coloraxis": {
           "colorbar": {
            "outlinewidth": 0,
            "ticks": ""
           }
          },
          "colorscale": {
           "sequential": [
            [
             0.0,
             "#0d0887"
            ],
            [
             0.1111111111111111,
             "#46039f"
            ],
            [
             0.2222222222222222,
             "#7201a8"
            ],
            [
             0.3333333333333333,
             "#9c179e"
            ],
            [
             0.4444444444444444,
             "#bd3786"
            ],
            [
             0.5555555555555556,
             "#d8576b"
            ],
            [
             0.6666666666666666,
             "#ed7953"
            ],
            [
             0.7777777777777778,
             "#fb9f3a"
            ],
            [
             0.8888888888888888,
             "#fdca26"
            ],
            [
             1.0,
             "#f0f921"
            ]
           ],
           "sequentialminus": [
            [
             0.0,
             "#0d0887"
            ],
            [
             0.1111111111111111,
             "#46039f"
            ],
            [
             0.2222222222222222,
             "#7201a8"
            ],
            [
             0.3333333333333333,
             "#9c179e"
            ],
            [
             0.4444444444444444,
             "#bd3786"
            ],
            [
             0.5555555555555556,
             "#d8576b"
            ],
            [
             0.6666666666666666,
             "#ed7953"
            ],
            [
             0.7777777777777778,
             "#fb9f3a"
            ],
            [
             0.8888888888888888,
             "#fdca26"
            ],
            [
             1.0,
             "#f0f921"
            ]
           ],
           "diverging": [
            [
             0,
             "#8e0152"
            ],
            [
             0.1,
             "#c51b7d"
            ],
            [
             0.2,
             "#de77ae"
            ],
            [
             0.3,
             "#f1b6da"
            ],
            [
             0.4,
             "#fde0ef"
            ],
            [
             0.5,
             "#f7f7f7"
            ],
            [
             0.6,
             "#e6f5d0"
            ],
            [
             0.7,
             "#b8e186"
            ],
            [
             0.8,
             "#7fbc41"
            ],
            [
             0.9,
             "#4d9221"
            ],
            [
             1,
             "#276419"
            ]
           ]
          },
          "xaxis": {
           "gridcolor": "#283442",
           "linecolor": "#506784",
           "ticks": "",
           "title": {
            "standoff": 15
           },
           "zerolinecolor": "#283442",
           "automargin": true,
           "zerolinewidth": 2
          },
          "yaxis": {
           "gridcolor": "#283442",
           "linecolor": "#506784",
           "ticks": "",
           "title": {
            "standoff": 15
           },
           "zerolinecolor": "#283442",
           "automargin": true,
           "zerolinewidth": 2
          },
          "scene": {
           "xaxis": {
            "backgroundcolor": "rgb(17,17,17)",
            "gridcolor": "#506784",
            "linecolor": "#506784",
            "showbackground": true,
            "ticks": "",
            "zerolinecolor": "#C8D4E3",
            "gridwidth": 2
           },
           "yaxis": {
            "backgroundcolor": "rgb(17,17,17)",
            "gridcolor": "#506784",
            "linecolor": "#506784",
            "showbackground": true,
            "ticks": "",
            "zerolinecolor": "#C8D4E3",
            "gridwidth": 2
           },
           "zaxis": {
            "backgroundcolor": "rgb(17,17,17)",
            "gridcolor": "#506784",
            "linecolor": "#506784",
            "showbackground": true,
            "ticks": "",
            "zerolinecolor": "#C8D4E3",
            "gridwidth": 2
           }
          },
          "shapedefaults": {
           "line": {
            "color": "#f2f5fa"
           }
          },
          "annotationdefaults": {
           "arrowcolor": "#f2f5fa",
           "arrowhead": 0,
           "arrowwidth": 1
          },
          "geo": {
           "bgcolor": "rgb(17,17,17)",
           "landcolor": "rgb(17,17,17)",
           "subunitcolor": "#506784",
           "showland": true,
           "showlakes": true,
           "lakecolor": "rgb(17,17,17)"
          },
          "title": {
           "x": 0.05
          },
          "updatemenudefaults": {
           "bgcolor": "#506784",
           "borderwidth": 0
          },
          "sliderdefaults": {
           "bgcolor": "#C8D4E3",
           "borderwidth": 1,
           "bordercolor": "rgb(17,17,17)",
           "tickwidth": 0
          },
          "mapbox": {
           "style": "dark"
          }
         }
        },
        "xaxis": {
         "anchor": "y",
         "domain": [
          0.0,
          1.0
         ],
         "title": {
          "text": "Porcentaje de Nulos"
         }
        },
        "yaxis": {
         "anchor": "x",
         "domain": [
          0.0,
          1.0
         ],
         "title": {
          "text": "Variable"
         }
        },
        "coloraxis": {
         "colorbar": {
          "title": {
           "text": "Porcentaje de Nulos"
          }
         },
         "colorscale": [
          [
           0.0,
           "rgb(255,245,240)"
          ],
          [
           0.125,
           "rgb(254,224,210)"
          ],
          [
           0.25,
           "rgb(252,187,161)"
          ],
          [
           0.375,
           "rgb(252,146,114)"
          ],
          [
           0.5,
           "rgb(251,106,74)"
          ],
          [
           0.625,
           "rgb(239,59,44)"
          ],
          [
           0.75,
           "rgb(203,24,29)"
          ],
          [
           0.875,
           "rgb(165,15,21)"
          ],
          [
           1.0,
           "rgb(103,0,13)"
          ]
         ]
        },
        "legend": {
         "tracegroupgap": 0
        },
        "title": {
         "text": "⚠️ Variables con más del 80% de valores nulos",
         "xanchor": "center",
         "x": 0.5
        },
        "barmode": "relative",
        "font": {
         "size": 14,
         "color": "#fff"
        },
        "height": 1440,
        "paper_bgcolor": "black",
        "plot_bgcolor": "black"
       },
       "config": {
        "plotlyServerURL": "https://plot.ly"
       }
      }
     },
     "metadata": {},
     "output_type": "display_data",
     "jetTransient": {
      "display_id": null
     }
    }
   ],
   "execution_count": 48
  }
 ],
 "metadata": {
  "kernelspec": {
   "display_name": "Python 3",
   "language": "python",
   "name": "python3"
  },
  "language_info": {
   "codemirror_mode": {
    "name": "ipython",
    "version": 2
   },
   "file_extension": ".py",
   "mimetype": "text/x-python",
   "name": "python",
   "nbconvert_exporter": "python",
   "pygments_lexer": "ipython2",
   "version": "2.7.6"
  }
 },
 "nbformat": 4,
 "nbformat_minor": 5
}
